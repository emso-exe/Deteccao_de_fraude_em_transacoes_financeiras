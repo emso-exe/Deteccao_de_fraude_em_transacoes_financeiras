{
 "cells": [
  {
   "cell_type": "markdown",
   "metadata": {},
   "source": [
    "# Construção da ABT\n",
    "_ABT - Analytical Base Table_\n",
    "\n",
    "---\n",
    "\n",
    "## Sumário\n",
    "\n",
    "1. **Importação da bibliotecas**\n",
    "2. **Criação e iniciação de uma sessão PySpark**\n",
    "3. **Criação dos datasets a partir da leitura dos arquivos \\*.csv e \\*.json**\n",
    "\n",
    "<br>\n",
    "\n",
    "---\n",
    "\n",
    "<br>"
   ]
  },
  {
   "cell_type": "markdown",
   "metadata": {},
   "source": [
    "## 1. Importação de bibliotecas"
   ]
  },
  {
   "cell_type": "code",
   "execution_count": 22,
   "metadata": {},
   "outputs": [],
   "source": [
    "from pyspark.sql import SparkSession\n",
    "from pyspark.sql.functions import explode, col, expr, count\n",
    "import json\n",
    "import csv"
   ]
  },
  {
   "cell_type": "markdown",
   "metadata": {},
   "source": [
    "## 2. Criação e iniciação de uma sessão PySpark"
   ]
  },
  {
   "cell_type": "code",
   "execution_count": 23,
   "metadata": {},
   "outputs": [
    {
     "data": {
      "text/html": [
       "\n",
       "            <div>\n",
       "                <p><b>SparkSession - in-memory</b></p>\n",
       "                \n",
       "        <div>\n",
       "            <p><b>SparkContext</b></p>\n",
       "\n",
       "            <p><a href=\"http://rootx:4040\">Spark UI</a></p>\n",
       "\n",
       "            <dl>\n",
       "              <dt>Version</dt>\n",
       "                <dd><code>v3.4.3</code></dd>\n",
       "              <dt>Master</dt>\n",
       "                <dd><code>local[*]</code></dd>\n",
       "              <dt>AppName</dt>\n",
       "                <dd><code>ABT - Transações de clientes</code></dd>\n",
       "            </dl>\n",
       "        </div>\n",
       "        \n",
       "            </div>\n",
       "        "
      ],
      "text/plain": [
       "<pyspark.sql.session.SparkSession at 0x2231de250a0>"
      ]
     },
     "execution_count": 23,
     "metadata": {},
     "output_type": "execute_result"
    }
   ],
   "source": [
    "appName = 'ABT - Transações de clientes'\n",
    "\n",
    "# O objeto SparkSession configurado com configurações específicas\n",
    "spark = SparkSession.builder \\\n",
    "    .appName(appName) \\\n",
    "    .config('spark.driver.memory', '8g') \\\n",
    "    .config('spark.executor.memory', '8g') \\\n",
    "    .config('spark.master', 'local[*]') \\\n",
    "    .getOrCreate()\n",
    "    \n",
    "spark.sparkContext.setLogLevel('ERROR')\n",
    "\n",
    "spark"
   ]
  },
  {
   "cell_type": "markdown",
   "metadata": {},
   "source": [
    "## 3. Criação dos datasets a partir da leitura dos arquivos *.csv e *.json"
   ]
  },
  {
   "cell_type": "code",
   "execution_count": 24,
   "metadata": {},
   "outputs": [],
   "source": [
    "# Caminho dos arquivos *.csv e *.json\n",
    "caminho = 'dados/'"
   ]
  },
  {
   "cell_type": "markdown",
   "metadata": {},
   "source": [
    "### 3.1. Arquivos CSV"
   ]
  },
  {
   "cell_type": "markdown",
   "metadata": {},
   "source": [
    "- cards_data.csv"
   ]
  },
  {
   "cell_type": "code",
   "execution_count": 25,
   "metadata": {},
   "outputs": [
    {
     "name": "stdout",
     "output_type": "stream",
     "text": [
      "root\n",
      " |-- id: integer (nullable = true)\n",
      " |-- client_id: integer (nullable = true)\n",
      " |-- card_brand: string (nullable = true)\n",
      " |-- card_type: string (nullable = true)\n",
      " |-- card_number: long (nullable = true)\n",
      " |-- expires: string (nullable = true)\n",
      " |-- cvv: integer (nullable = true)\n",
      " |-- has_chip: string (nullable = true)\n",
      " |-- num_cards_issued: integer (nullable = true)\n",
      " |-- credit_limit: string (nullable = true)\n",
      " |-- acct_open_date: string (nullable = true)\n",
      " |-- year_pin_last_changed: integer (nullable = true)\n",
      " |-- card_on_dark_web: string (nullable = true)\n",
      "\n"
     ]
    }
   ],
   "source": [
    "# Dados de cartão de crédito\n",
    "df_cards = spark.read.csv(caminho + 'cards_data.csv', header=True, inferSchema=True)\n",
    "\n",
    "# Exibir o esquema do dataframe\n",
    "df_cards.printSchema()"
   ]
  },
  {
   "cell_type": "markdown",
   "metadata": {},
   "source": [
    "- transactions_data.csv"
   ]
  },
  {
   "cell_type": "code",
   "execution_count": 26,
   "metadata": {},
   "outputs": [
    {
     "name": "stdout",
     "output_type": "stream",
     "text": [
      "root\n",
      " |-- id: integer (nullable = true)\n",
      " |-- date: timestamp (nullable = true)\n",
      " |-- client_id: integer (nullable = true)\n",
      " |-- card_id: integer (nullable = true)\n",
      " |-- amount: string (nullable = true)\n",
      " |-- use_chip: string (nullable = true)\n",
      " |-- merchant_id: integer (nullable = true)\n",
      " |-- merchant_city: string (nullable = true)\n",
      " |-- merchant_state: string (nullable = true)\n",
      " |-- zip: double (nullable = true)\n",
      " |-- mcc: integer (nullable = true)\n",
      " |-- errors: string (nullable = true)\n",
      "\n"
     ]
    }
   ],
   "source": [
    "# Dados de transações\n",
    "df_transactions = spark.read.csv(caminho + 'transactions_data.csv', header=True, inferSchema=True)\n",
    "\n",
    "# Exibir o esquema do dataframe\n",
    "df_transactions.printSchema()"
   ]
  },
  {
   "cell_type": "markdown",
   "metadata": {},
   "source": [
    "- users_data.csv"
   ]
  },
  {
   "cell_type": "code",
   "execution_count": 27,
   "metadata": {},
   "outputs": [
    {
     "name": "stdout",
     "output_type": "stream",
     "text": [
      "root\n",
      " |-- id: integer (nullable = true)\n",
      " |-- current_age: integer (nullable = true)\n",
      " |-- retirement_age: integer (nullable = true)\n",
      " |-- birth_year: integer (nullable = true)\n",
      " |-- birth_month: integer (nullable = true)\n",
      " |-- gender: string (nullable = true)\n",
      " |-- address: string (nullable = true)\n",
      " |-- latitude: double (nullable = true)\n",
      " |-- longitude: double (nullable = true)\n",
      " |-- per_capita_income: string (nullable = true)\n",
      " |-- yearly_income: string (nullable = true)\n",
      " |-- total_debt: string (nullable = true)\n",
      " |-- credit_score: integer (nullable = true)\n",
      " |-- num_credit_cards: integer (nullable = true)\n",
      "\n"
     ]
    }
   ],
   "source": [
    "# Dados de clientes\n",
    "df_clients = spark.read.csv(caminho + 'users_data.csv', header=True, inferSchema=True)\n",
    "\n",
    "# Exibir o esquema do dataframe\n",
    "df_clients.printSchema()"
   ]
  },
  {
   "cell_type": "markdown",
   "metadata": {},
   "source": [
    "### 3.2. Arquivos JSON"
   ]
  },
  {
   "cell_type": "code",
   "execution_count": 28,
   "metadata": {},
   "outputs": [],
   "source": [
    "def process_json_to_csv(json_path, csv_path, list_columns, one_column=None):\n",
    "    '''\n",
    "    Processa um arquivo JSON e converte em CSV.\n",
    "\n",
    "    :param json_path: path + filename.json\n",
    "        Caminho do arquivo JSON de entrada.\n",
    "    :param csv_path: path + filename.csv\n",
    "        Caminho do arquivo CSV de saída.\n",
    "    :param list_columns: list\n",
    "        Lista com os nomes das colunas do CSV.\n",
    "    :param one_column: string (default=None)\n",
    "        Nome da chave no JSON para acessar dados aninhados (opcional).\n",
    "    '''\n",
    "    # Carregar o arquivo JSON\n",
    "    with open(json_path, 'r', encoding='utf-8') as json_file:\n",
    "        data = json.load(json_file)\n",
    "        \n",
    "    if not data:\n",
    "        print('Arquivo JSON está vazio.')\n",
    "        return\n",
    "    \n",
    "    # Processar dados aninhados, se necessário\n",
    "    if one_column:\n",
    "        data = data.get(one_column, {})\n",
    "        if not data:\n",
    "            print(f'A chave \\'{one_column}\\' não foi encontrada ou está vazia no JSON.')\n",
    "            return\n",
    "        print(f'Dados extraídos da chave \\'{one_column}\\'.')\n",
    "    else:\n",
    "        print('Processando JSON sem dados aninhados.')\n",
    "\n",
    "    # Escrever o CSV\n",
    "    with open(csv_path, 'w', encoding='utf-8', newline='') as csv_file:\n",
    "        writer = csv.writer(csv_file)\n",
    "        writer.writerow(list_columns)  # Escrevendo o cabeçalho\n",
    "        \n",
    "        for key, value in data.items():\n",
    "            writer.writerow([key, value])  # Escrevendo as linhas\n",
    "    \n",
    "    print(f'Arquivo CSV gerado com sucesso em {csv_path}.')"
   ]
  },
  {
   "cell_type": "markdown",
   "metadata": {},
   "source": [
    "- mcc_codes.json"
   ]
  },
  {
   "cell_type": "code",
   "execution_count": 29,
   "metadata": {},
   "outputs": [
    {
     "name": "stdout",
     "output_type": "stream",
     "text": [
      "Processando JSON sem dados aninhados.\n",
      "Arquivo CSV gerado com sucesso em dados/mcc_codes.csv.\n"
     ]
    }
   ],
   "source": [
    "# Processar mcc_codes.json\n",
    "json_path = caminho + 'mcc_codes.json'\n",
    "csv_path = caminho + 'mcc_codes.csv'\n",
    "list_columns = ['code', 'description']\n",
    "process_json_to_csv(json_path, csv_path, list_columns)"
   ]
  },
  {
   "cell_type": "code",
   "execution_count": 30,
   "metadata": {},
   "outputs": [
    {
     "name": "stdout",
     "output_type": "stream",
     "text": [
      "root\n",
      " |-- code: integer (nullable = true)\n",
      " |-- description: string (nullable = true)\n",
      "\n"
     ]
    }
   ],
   "source": [
    "# Dados de códigos de categoria de mercadorias\n",
    "df_mcc = spark.read.csv(caminho + 'mcc_codes.csv', header=True, inferSchema=True)\n",
    "\n",
    "# Exibir o esquema do dataframe\n",
    "df_mcc.printSchema()"
   ]
  },
  {
   "cell_type": "markdown",
   "metadata": {},
   "source": [
    "- train_fraud_labels.json"
   ]
  },
  {
   "cell_type": "code",
   "execution_count": 31,
   "metadata": {},
   "outputs": [
    {
     "name": "stdout",
     "output_type": "stream",
     "text": [
      "Dados extraídos da chave 'target'.\n",
      "Arquivo CSV gerado com sucesso em dados/train_fraud_labels.csv.\n"
     ]
    }
   ],
   "source": [
    "# Processar train_fraud_labels.json\n",
    "json_path = caminho + 'train_fraud_labels.json'\n",
    "csv_path = caminho + 'train_fraud_labels.csv'\n",
    "list_columns = ['transaction_id', 'is_fraud']\n",
    "one_column = 'target'\n",
    "process_json_to_csv(json_path, csv_path, list_columns, one_column)"
   ]
  },
  {
   "cell_type": "code",
   "execution_count": 32,
   "metadata": {},
   "outputs": [
    {
     "name": "stdout",
     "output_type": "stream",
     "text": [
      "root\n",
      " |-- transaction_id: integer (nullable = true)\n",
      " |-- is_fraud: string (nullable = true)\n",
      "\n"
     ]
    }
   ],
   "source": [
    "# Dados de rótulos de fraude\n",
    "df_train_fraud = spark.read.csv(caminho + 'train_fraud_labels.csv', header=True, inferSchema=True)\n",
    "\n",
    "# Exibir o esquema do dataframe\n",
    "df_train_fraud.printSchema()"
   ]
  },
  {
   "cell_type": "markdown",
   "metadata": {},
   "source": [
    "## 4. Análise dos dados para construção da ABT"
   ]
  },
  {
   "cell_type": "markdown",
   "metadata": {},
   "source": [
    "- Volumetria dos dataframes"
   ]
  },
  {
   "cell_type": "code",
   "execution_count": 33,
   "metadata": {},
   "outputs": [],
   "source": [
    "def dataframe_volumetry(df, df_name):\n",
    "    '''\n",
    "    Exibe a quantidade de linhas e colunas de um dataframe.\n",
    "    \n",
    "    :param df: DataFrame\n",
    "        O dataframe a ser analisado.\n",
    "    :param df_name: string\n",
    "        Nome do dataframe a ser analisado.\n",
    "    '''\n",
    "    print(f'Volumetria do \\033[3m{df_name}\\033[0m')\n",
    "    print(f'Linhas: {df.count()}')\n",
    "    print(f'Colunas: {len(df.columns)}\\n')"
   ]
  },
  {
   "cell_type": "code",
   "execution_count": 34,
   "metadata": {},
   "outputs": [
    {
     "name": "stdout",
     "output_type": "stream",
     "text": [
      "Volumetria do \u001b[3mdf_cards\u001b[0m\n",
      "Linhas: 6146\n",
      "Colunas: 13\n",
      "\n",
      "Volumetria do \u001b[3mdf_transactions\u001b[0m\n",
      "Linhas: 13305915\n",
      "Colunas: 12\n",
      "\n",
      "Volumetria do \u001b[3mdf_clients\u001b[0m\n",
      "Linhas: 2000\n",
      "Colunas: 14\n",
      "\n",
      "Volumetria do \u001b[3mdf_mcc\u001b[0m\n",
      "Linhas: 109\n",
      "Colunas: 2\n",
      "\n",
      "Volumetria do \u001b[3mdf_train_fraud\u001b[0m\n",
      "Linhas: 8914963\n",
      "Colunas: 2\n",
      "\n"
     ]
    }
   ],
   "source": [
    "dataframe_volumetry(df_cards, 'df_cards')\n",
    "dataframe_volumetry(df_transactions, 'df_transactions')\n",
    "dataframe_volumetry(df_clients, 'df_clients')\n",
    "dataframe_volumetry(df_mcc, 'df_mcc')\n",
    "dataframe_volumetry(df_train_fraud, 'df_train_fraud')"
   ]
  },
  {
   "cell_type": "markdown",
   "metadata": {},
   "source": [
    "- Criação de Views temporárias para cada dataframe"
   ]
  },
  {
   "cell_type": "code",
   "execution_count": 35,
   "metadata": {},
   "outputs": [],
   "source": [
    "df_cards.createOrReplaceTempView('tb_cards')\n",
    "df_clients.createOrReplaceTempView('tb_clients')\n",
    "df_mcc.createOrReplaceTempView('tb_mcc')\n",
    "df_train_fraud.createOrReplaceTempView('tb_train_fraud')\n",
    "df_transactions.createOrReplaceTempView('tb_transactions')"
   ]
  },
  {
   "cell_type": "markdown",
   "metadata": {},
   "source": [
    "- Visualizando os dados da tb_cards"
   ]
  },
  {
   "cell_type": "code",
   "execution_count": 36,
   "metadata": {},
   "outputs": [
    {
     "name": "stdout",
     "output_type": "stream",
     "text": [
      "+----+---------+----------+---------------+----------------+-------+---+--------+----------------+------------+--------------+---------------------+----------------+\n",
      "|  id|client_id|card_brand|      card_type|     card_number|expires|cvv|has_chip|num_cards_issued|credit_limit|acct_open_date|year_pin_last_changed|card_on_dark_web|\n",
      "+----+---------+----------+---------------+----------------+-------+---+--------+----------------+------------+--------------+---------------------+----------------+\n",
      "|4524|      825|      Visa|          Debit|4344676511950444|12/2022|623|     YES|               2|      $24295|       09/2002|                 2008|              No|\n",
      "|2731|      825|      Visa|          Debit|4956965974959986|12/2020|393|     YES|               2|      $21968|       04/2014|                 2014|              No|\n",
      "|3701|      825|      Visa|          Debit|4582313478255491|02/2024|719|     YES|               2|      $46414|       07/2003|                 2004|              No|\n",
      "|  42|      825|      Visa|         Credit|4879494103069057|08/2024|693|      NO|               1|      $12400|       01/2003|                 2012|              No|\n",
      "|4659|      825|Mastercard|Debit (Prepaid)|5722874738736011|03/2009| 75|     YES|               1|         $28|       09/2008|                 2009|              No|\n",
      "|4537|     1746|      Visa|         Credit|4404898874682993|09/2003|736|     YES|               1|      $27500|       09/2003|                 2012|              No|\n",
      "|1278|     1746|      Visa|          Debit|4001482973848631|07/2022|972|     YES|               2|      $28508|       02/2011|                 2011|              No|\n",
      "|3687|     1746|Mastercard|          Debit|5627220683410948|06/2022| 48|     YES|               2|       $9022|       07/2003|                 2015|              No|\n",
      "|3465|     1746|Mastercard|Debit (Prepaid)|5711382187309326|11/2020|722|     YES|               2|         $54|       06/2010|                 2015|              No|\n",
      "|3754|     1746|Mastercard|Debit (Prepaid)|5766121508358701|02/2023|908|     YES|               1|         $99|       07/2006|                 2012|              No|\n",
      "+----+---------+----------+---------------+----------------+-------+---+--------+----------------+------------+--------------+---------------------+----------------+\n",
      "only showing top 10 rows\n",
      "\n"
     ]
    }
   ],
   "source": [
    "df_cards.show(10)"
   ]
  },
  {
   "cell_type": "markdown",
   "metadata": {},
   "source": [
    "- Visualizando os dados da tb_clients"
   ]
  },
  {
   "cell_type": "code",
   "execution_count": 37,
   "metadata": {},
   "outputs": [
    {
     "name": "stdout",
     "output_type": "stream",
     "text": [
      "+----+-----------+--------------+----------+-----------+------+--------------------+--------+---------+-----------------+-------------+----------+------------+----------------+\n",
      "|  id|current_age|retirement_age|birth_year|birth_month|gender|             address|latitude|longitude|per_capita_income|yearly_income|total_debt|credit_score|num_credit_cards|\n",
      "+----+-----------+--------------+----------+-----------+------+--------------------+--------+---------+-----------------+-------------+----------+------------+----------------+\n",
      "| 825|         53|            66|      1966|         11|Female|       462 Rose Lane|   34.15|  -117.76|           $29278|       $59696|   $127613|         787|               5|\n",
      "|1746|         53|            68|      1966|         12|Female|3606 Federal Boul...|   40.76|   -73.74|           $37891|       $77254|   $191349|         701|               5|\n",
      "|1718|         81|            67|      1938|         11|Female|     766 Third Drive|   34.02|  -117.89|           $22681|       $33483|      $196|         698|               5|\n",
      "| 708|         63|            63|      1957|          1|Female|    3 Madison Street|   40.71|   -73.99|          $163145|      $249925|   $202328|         722|               4|\n",
      "|1164|         43|            70|      1976|          9|  Male|9620 Valley Strea...|   37.76|  -122.44|           $53797|      $109687|   $183855|         675|               1|\n",
      "|  68|         42|            70|      1977|         10|  Male|       58 Birch Lane|   41.55|    -90.6|           $20599|       $41997|        $0|         704|               3|\n",
      "|1075|         36|            67|      1983|         12|Female|   5695 Fifth Street|   38.22|   -85.74|           $25258|       $51500|   $102286|         672|               3|\n",
      "|1711|         26|            67|      1993|         12|  Male|   1941 Ninth Street|   45.51|  -122.64|           $26790|       $54623|   $114711|         728|               1|\n",
      "|1116|         81|            66|      1938|          7|Female|    11 Spruce Avenue|   40.32|   -75.32|           $26273|       $42509|     $2895|         755|               5|\n",
      "|1752|         34|            60|      1986|          1|Female|    887 Grant Street|   29.97|   -92.12|           $18730|       $38190|    $81262|         810|               1|\n",
      "+----+-----------+--------------+----------+-----------+------+--------------------+--------+---------+-----------------+-------------+----------+------------+----------------+\n",
      "only showing top 10 rows\n",
      "\n"
     ]
    }
   ],
   "source": [
    "df_clients.show(10)"
   ]
  },
  {
   "cell_type": "markdown",
   "metadata": {},
   "source": [
    "- Visualizando os dados da tb_mcc"
   ]
  },
  {
   "cell_type": "code",
   "execution_count": 38,
   "metadata": {},
   "outputs": [
    {
     "name": "stdout",
     "output_type": "stream",
     "text": [
      "+----+--------------------+\n",
      "|code|         description|\n",
      "+----+--------------------+\n",
      "|5812|Eating Places and...|\n",
      "|5541|    Service Stations|\n",
      "|7996|Amusement Parks, ...|\n",
      "|5411|Grocery Stores, S...|\n",
      "|4784|Tolls and Bridge ...|\n",
      "|4900|Utilities - Elect...|\n",
      "|5942|         Book Stores|\n",
      "|5814|Fast Food Restaur...|\n",
      "|4829|      Money Transfer|\n",
      "|5311|   Department Stores|\n",
      "+----+--------------------+\n",
      "only showing top 10 rows\n",
      "\n"
     ]
    }
   ],
   "source": [
    "df_mcc.show(10)"
   ]
  },
  {
   "cell_type": "markdown",
   "metadata": {},
   "source": [
    "- Visualizando os dados da tb_train_fraud"
   ]
  },
  {
   "cell_type": "code",
   "execution_count": 39,
   "metadata": {},
   "outputs": [
    {
     "name": "stdout",
     "output_type": "stream",
     "text": [
      "+--------------+--------+\n",
      "|transaction_id|is_fraud|\n",
      "+--------------+--------+\n",
      "|      10649266|      No|\n",
      "|      23410063|      No|\n",
      "|       9316588|      No|\n",
      "|      12478022|      No|\n",
      "|       9558530|      No|\n",
      "|      12532830|      No|\n",
      "|      19526714|      No|\n",
      "|       9906964|      No|\n",
      "|      13224888|      No|\n",
      "|      13749094|      No|\n",
      "+--------------+--------+\n",
      "only showing top 10 rows\n",
      "\n"
     ]
    }
   ],
   "source": [
    "df_train_fraud.show(10)"
   ]
  },
  {
   "cell_type": "markdown",
   "metadata": {},
   "source": [
    "- Visualzando os dados da tb_transactions"
   ]
  },
  {
   "cell_type": "code",
   "execution_count": 40,
   "metadata": {},
   "outputs": [
    {
     "name": "stdout",
     "output_type": "stream",
     "text": [
      "+-------+-------------------+---------+-------+-------+------------------+-----------+-------------+--------------+-------+----+------+\n",
      "|     id|               date|client_id|card_id| amount|          use_chip|merchant_id|merchant_city|merchant_state|    zip| mcc|errors|\n",
      "+-------+-------------------+---------+-------+-------+------------------+-----------+-------------+--------------+-------+----+------+\n",
      "|7475327|2010-01-01 00:01:00|     1556|   2972|$-77.00| Swipe Transaction|      59935|       Beulah|            ND|58523.0|5499|  null|\n",
      "|7475328|2010-01-01 00:02:00|      561|   4575| $14.57| Swipe Transaction|      67570|   Bettendorf|            IA|52722.0|5311|  null|\n",
      "|7475329|2010-01-01 00:02:00|     1129|    102| $80.00| Swipe Transaction|      27092|        Vista|            CA|92084.0|4829|  null|\n",
      "|7475331|2010-01-01 00:05:00|      430|   2860|$200.00| Swipe Transaction|      27092|  Crown Point|            IN|46307.0|4829|  null|\n",
      "|7475332|2010-01-01 00:06:00|      848|   3915| $46.41| Swipe Transaction|      13051|      Harwood|            MD|20776.0|5813|  null|\n",
      "|7475333|2010-01-01 00:07:00|     1807|    165|  $4.81| Swipe Transaction|      20519|        Bronx|            NY|10464.0|5942|  null|\n",
      "|7475334|2010-01-01 00:09:00|     1556|   2972| $77.00| Swipe Transaction|      59935|       Beulah|            ND|58523.0|5499|  null|\n",
      "|7475335|2010-01-01 00:14:00|     1684|   2140| $26.46|Online Transaction|      39021|       ONLINE|          null|   null|4784|  null|\n",
      "|7475336|2010-01-01 00:21:00|      335|   5131|$261.58|Online Transaction|      50292|       ONLINE|          null|   null|7801|  null|\n",
      "|7475337|2010-01-01 00:21:00|      351|   1112| $10.74| Swipe Transaction|       3864|     Flushing|            NY|11355.0|5813|  null|\n",
      "+-------+-------------------+---------+-------+-------+------------------+-----------+-------------+--------------+-------+----+------+\n",
      "only showing top 10 rows\n",
      "\n"
     ]
    }
   ],
   "source": [
    "df_transactions.show(10)"
   ]
  },
  {
   "cell_type": "code",
   "execution_count": 41,
   "metadata": {},
   "outputs": [
    {
     "name": "stdout",
     "output_type": "stream",
     "text": [
      "Encerrando o script, mas mantendo o ambiente interativo ativo.\n"
     ]
    }
   ],
   "source": [
    "import sys\n",
    "\n",
    "try:\n",
    "    sys.exit()\n",
    "except SystemExit:\n",
    "    print('Encerrando o script, mas mantendo o ambiente interativo ativo.')\n"
   ]
  },
  {
   "cell_type": "code",
   "execution_count": 42,
   "metadata": {},
   "outputs": [
    {
     "ename": "Py4JError",
     "evalue": "An error occurred while calling o29.sql. Trace:\npy4j.Py4JException: Method sql([class java.lang.String, class [Ljava.lang.Object;]) does not exist\r\n\tat py4j.reflection.ReflectionEngine.getMethod(ReflectionEngine.java:321)\r\n\tat py4j.reflection.ReflectionEngine.getMethod(ReflectionEngine.java:329)\r\n\tat py4j.Gateway.invoke(Gateway.java:274)\r\n\tat py4j.commands.AbstractCommand.invokeMethod(AbstractCommand.java:132)\r\n\tat py4j.commands.CallCommand.execute(CallCommand.java:79)\r\n\tat py4j.ClientServerConnection.waitForCommands(ClientServerConnection.java:182)\r\n\tat py4j.ClientServerConnection.run(ClientServerConnection.java:106)\r\n\tat java.base/java.lang.Thread.run(Thread.java:834)\r\n\n",
     "output_type": "error",
     "traceback": [
      "\u001b[1;31m---------------------------------------------------------------------------\u001b[0m",
      "\u001b[1;31mPy4JError\u001b[0m                                 Traceback (most recent call last)",
      "Cell \u001b[1;32mIn[42], line 3\u001b[0m\n\u001b[0;32m      1\u001b[0m \u001b[38;5;66;03m# \u001b[39;00m\n\u001b[1;32m----> 3\u001b[0m vw_cards \u001b[38;5;241m=\u001b[39m \u001b[43mspark\u001b[49m\u001b[38;5;241;43m.\u001b[39;49m\u001b[43msql\u001b[49m\u001b[43m(\u001b[49m\u001b[38;5;124;43m'''\u001b[39;49m\n\u001b[0;32m      4\u001b[0m \u001b[38;5;124;43m    SELECT\u001b[39;49m\n\u001b[0;32m      5\u001b[0m \u001b[38;5;124;43m        id,\u001b[39;49m\n\u001b[0;32m      6\u001b[0m \u001b[38;5;124;43m        client_id,\u001b[39;49m\n\u001b[0;32m      7\u001b[0m \u001b[38;5;124;43m        card_brand,\u001b[39;49m\n\u001b[0;32m      8\u001b[0m \u001b[38;5;124;43m        card_type,\u001b[39;49m\n\u001b[0;32m      9\u001b[0m \u001b[38;5;124;43m        card_number,\u001b[39;49m\n\u001b[0;32m     10\u001b[0m \u001b[38;5;124;43m        expires,\u001b[39;49m\n\u001b[0;32m     11\u001b[0m \u001b[38;5;124;43m        cvv,\u001b[39;49m\n\u001b[0;32m     12\u001b[0m \u001b[38;5;124;43m        has_chip,\u001b[39;49m\n\u001b[0;32m     13\u001b[0m \u001b[38;5;124;43m        num_cards_issued,\u001b[39;49m\n\u001b[0;32m     14\u001b[0m \u001b[38;5;124;43m        credit_limit,\u001b[39;49m\n\u001b[0;32m     15\u001b[0m \u001b[38;5;124;43m        acct_open_date,\u001b[39;49m\n\u001b[0;32m     16\u001b[0m \u001b[38;5;124;43m        year_pin_last_changed,\u001b[39;49m\n\u001b[0;32m     17\u001b[0m \u001b[38;5;124;43m        card_on_dark_web\u001b[39;49m\n\u001b[0;32m     18\u001b[0m \u001b[38;5;124;43m    FROM \u001b[39;49m\n\u001b[0;32m     19\u001b[0m \u001b[38;5;124;43m        tb_cards;\u001b[39;49m\n\u001b[0;32m     20\u001b[0m \u001b[38;5;124;43m'''\u001b[39;49m\u001b[43m)\u001b[49m\n\u001b[0;32m     22\u001b[0m vw_cards\u001b[38;5;241m.\u001b[39mshow(\u001b[38;5;241m10\u001b[39m, truncate\u001b[38;5;241m=\u001b[39m\u001b[38;5;28;01mFalse\u001b[39;00m)\n",
      "File \u001b[1;32md:\\PROJETOS\\deteccao_de_fraude_em_transacoes_financeiras\\venv\\Lib\\site-packages\\pyspark\\sql\\session.py:1631\u001b[0m, in \u001b[0;36mSparkSession.sql\u001b[1;34m(self, sqlQuery, args, **kwargs)\u001b[0m\n\u001b[0;32m   1627\u001b[0m         \u001b[38;5;28;01massert\u001b[39;00m \u001b[38;5;28mself\u001b[39m\u001b[38;5;241m.\u001b[39m_jvm \u001b[38;5;129;01mis\u001b[39;00m \u001b[38;5;129;01mnot\u001b[39;00m \u001b[38;5;28;01mNone\u001b[39;00m\n\u001b[0;32m   1628\u001b[0m         litArgs \u001b[38;5;241m=\u001b[39m \u001b[38;5;28mself\u001b[39m\u001b[38;5;241m.\u001b[39m_jvm\u001b[38;5;241m.\u001b[39mPythonUtils\u001b[38;5;241m.\u001b[39mtoArray(\n\u001b[0;32m   1629\u001b[0m             [_to_java_column(lit(v)) \u001b[38;5;28;01mfor\u001b[39;00m v \u001b[38;5;129;01min\u001b[39;00m (args \u001b[38;5;129;01mor\u001b[39;00m [])]\n\u001b[0;32m   1630\u001b[0m         )\n\u001b[1;32m-> 1631\u001b[0m     \u001b[38;5;28;01mreturn\u001b[39;00m DataFrame(\u001b[38;5;28;43mself\u001b[39;49m\u001b[38;5;241;43m.\u001b[39;49m\u001b[43m_jsparkSession\u001b[49m\u001b[38;5;241;43m.\u001b[39;49m\u001b[43msql\u001b[49m\u001b[43m(\u001b[49m\u001b[43msqlQuery\u001b[49m\u001b[43m,\u001b[49m\u001b[43m \u001b[49m\u001b[43mlitArgs\u001b[49m\u001b[43m)\u001b[49m, \u001b[38;5;28mself\u001b[39m)\n\u001b[0;32m   1632\u001b[0m \u001b[38;5;28;01mfinally\u001b[39;00m:\n\u001b[0;32m   1633\u001b[0m     \u001b[38;5;28;01mif\u001b[39;00m \u001b[38;5;28mlen\u001b[39m(kwargs) \u001b[38;5;241m>\u001b[39m \u001b[38;5;241m0\u001b[39m:\n",
      "File \u001b[1;32md:\\PROJETOS\\deteccao_de_fraude_em_transacoes_financeiras\\venv\\Lib\\site-packages\\py4j\\java_gateway.py:1322\u001b[0m, in \u001b[0;36mJavaMember.__call__\u001b[1;34m(self, *args)\u001b[0m\n\u001b[0;32m   1316\u001b[0m command \u001b[38;5;241m=\u001b[39m proto\u001b[38;5;241m.\u001b[39mCALL_COMMAND_NAME \u001b[38;5;241m+\u001b[39m\\\n\u001b[0;32m   1317\u001b[0m     \u001b[38;5;28mself\u001b[39m\u001b[38;5;241m.\u001b[39mcommand_header \u001b[38;5;241m+\u001b[39m\\\n\u001b[0;32m   1318\u001b[0m     args_command \u001b[38;5;241m+\u001b[39m\\\n\u001b[0;32m   1319\u001b[0m     proto\u001b[38;5;241m.\u001b[39mEND_COMMAND_PART\n\u001b[0;32m   1321\u001b[0m answer \u001b[38;5;241m=\u001b[39m \u001b[38;5;28mself\u001b[39m\u001b[38;5;241m.\u001b[39mgateway_client\u001b[38;5;241m.\u001b[39msend_command(command)\n\u001b[1;32m-> 1322\u001b[0m return_value \u001b[38;5;241m=\u001b[39m \u001b[43mget_return_value\u001b[49m\u001b[43m(\u001b[49m\n\u001b[0;32m   1323\u001b[0m \u001b[43m    \u001b[49m\u001b[43manswer\u001b[49m\u001b[43m,\u001b[49m\u001b[43m \u001b[49m\u001b[38;5;28;43mself\u001b[39;49m\u001b[38;5;241;43m.\u001b[39;49m\u001b[43mgateway_client\u001b[49m\u001b[43m,\u001b[49m\u001b[43m \u001b[49m\u001b[38;5;28;43mself\u001b[39;49m\u001b[38;5;241;43m.\u001b[39;49m\u001b[43mtarget_id\u001b[49m\u001b[43m,\u001b[49m\u001b[43m \u001b[49m\u001b[38;5;28;43mself\u001b[39;49m\u001b[38;5;241;43m.\u001b[39;49m\u001b[43mname\u001b[49m\u001b[43m)\u001b[49m\n\u001b[0;32m   1325\u001b[0m \u001b[38;5;28;01mfor\u001b[39;00m temp_arg \u001b[38;5;129;01min\u001b[39;00m temp_args:\n\u001b[0;32m   1326\u001b[0m     \u001b[38;5;28;01mif\u001b[39;00m \u001b[38;5;28mhasattr\u001b[39m(temp_arg, \u001b[38;5;124m\"\u001b[39m\u001b[38;5;124m_detach\u001b[39m\u001b[38;5;124m\"\u001b[39m):\n",
      "File \u001b[1;32md:\\PROJETOS\\deteccao_de_fraude_em_transacoes_financeiras\\venv\\Lib\\site-packages\\pyspark\\errors\\exceptions\\captured.py:179\u001b[0m, in \u001b[0;36mcapture_sql_exception.<locals>.deco\u001b[1;34m(*a, **kw)\u001b[0m\n\u001b[0;32m    177\u001b[0m \u001b[38;5;28;01mdef\u001b[39;00m\u001b[38;5;250m \u001b[39m\u001b[38;5;21mdeco\u001b[39m(\u001b[38;5;241m*\u001b[39ma: Any, \u001b[38;5;241m*\u001b[39m\u001b[38;5;241m*\u001b[39mkw: Any) \u001b[38;5;241m-\u001b[39m\u001b[38;5;241m>\u001b[39m Any:\n\u001b[0;32m    178\u001b[0m     \u001b[38;5;28;01mtry\u001b[39;00m:\n\u001b[1;32m--> 179\u001b[0m         \u001b[38;5;28;01mreturn\u001b[39;00m \u001b[43mf\u001b[49m\u001b[43m(\u001b[49m\u001b[38;5;241;43m*\u001b[39;49m\u001b[43ma\u001b[49m\u001b[43m,\u001b[49m\u001b[43m \u001b[49m\u001b[38;5;241;43m*\u001b[39;49m\u001b[38;5;241;43m*\u001b[39;49m\u001b[43mkw\u001b[49m\u001b[43m)\u001b[49m\n\u001b[0;32m    180\u001b[0m     \u001b[38;5;28;01mexcept\u001b[39;00m Py4JJavaError \u001b[38;5;28;01mas\u001b[39;00m e:\n\u001b[0;32m    181\u001b[0m         converted \u001b[38;5;241m=\u001b[39m convert_exception(e\u001b[38;5;241m.\u001b[39mjava_exception)\n",
      "File \u001b[1;32md:\\PROJETOS\\deteccao_de_fraude_em_transacoes_financeiras\\venv\\Lib\\site-packages\\py4j\\protocol.py:330\u001b[0m, in \u001b[0;36mget_return_value\u001b[1;34m(answer, gateway_client, target_id, name)\u001b[0m\n\u001b[0;32m    326\u001b[0m         \u001b[38;5;28;01mraise\u001b[39;00m Py4JJavaError(\n\u001b[0;32m    327\u001b[0m             \u001b[38;5;124m\"\u001b[39m\u001b[38;5;124mAn error occurred while calling \u001b[39m\u001b[38;5;132;01m{0}\u001b[39;00m\u001b[38;5;132;01m{1}\u001b[39;00m\u001b[38;5;132;01m{2}\u001b[39;00m\u001b[38;5;124m.\u001b[39m\u001b[38;5;130;01m\\n\u001b[39;00m\u001b[38;5;124m\"\u001b[39m\u001b[38;5;241m.\u001b[39m\n\u001b[0;32m    328\u001b[0m             \u001b[38;5;28mformat\u001b[39m(target_id, \u001b[38;5;124m\"\u001b[39m\u001b[38;5;124m.\u001b[39m\u001b[38;5;124m\"\u001b[39m, name), value)\n\u001b[0;32m    329\u001b[0m     \u001b[38;5;28;01melse\u001b[39;00m:\n\u001b[1;32m--> 330\u001b[0m         \u001b[38;5;28;01mraise\u001b[39;00m Py4JError(\n\u001b[0;32m    331\u001b[0m             \u001b[38;5;124m\"\u001b[39m\u001b[38;5;124mAn error occurred while calling \u001b[39m\u001b[38;5;132;01m{0}\u001b[39;00m\u001b[38;5;132;01m{1}\u001b[39;00m\u001b[38;5;132;01m{2}\u001b[39;00m\u001b[38;5;124m. Trace:\u001b[39m\u001b[38;5;130;01m\\n\u001b[39;00m\u001b[38;5;132;01m{3}\u001b[39;00m\u001b[38;5;130;01m\\n\u001b[39;00m\u001b[38;5;124m\"\u001b[39m\u001b[38;5;241m.\u001b[39m\n\u001b[0;32m    332\u001b[0m             \u001b[38;5;28mformat\u001b[39m(target_id, \u001b[38;5;124m\"\u001b[39m\u001b[38;5;124m.\u001b[39m\u001b[38;5;124m\"\u001b[39m, name, value))\n\u001b[0;32m    333\u001b[0m \u001b[38;5;28;01melse\u001b[39;00m:\n\u001b[0;32m    334\u001b[0m     \u001b[38;5;28;01mraise\u001b[39;00m Py4JError(\n\u001b[0;32m    335\u001b[0m         \u001b[38;5;124m\"\u001b[39m\u001b[38;5;124mAn error occurred while calling \u001b[39m\u001b[38;5;132;01m{0}\u001b[39;00m\u001b[38;5;132;01m{1}\u001b[39;00m\u001b[38;5;132;01m{2}\u001b[39;00m\u001b[38;5;124m\"\u001b[39m\u001b[38;5;241m.\u001b[39m\n\u001b[0;32m    336\u001b[0m         \u001b[38;5;28mformat\u001b[39m(target_id, \u001b[38;5;124m\"\u001b[39m\u001b[38;5;124m.\u001b[39m\u001b[38;5;124m\"\u001b[39m, name))\n",
      "\u001b[1;31mPy4JError\u001b[0m: An error occurred while calling o29.sql. Trace:\npy4j.Py4JException: Method sql([class java.lang.String, class [Ljava.lang.Object;]) does not exist\r\n\tat py4j.reflection.ReflectionEngine.getMethod(ReflectionEngine.java:321)\r\n\tat py4j.reflection.ReflectionEngine.getMethod(ReflectionEngine.java:329)\r\n\tat py4j.Gateway.invoke(Gateway.java:274)\r\n\tat py4j.commands.AbstractCommand.invokeMethod(AbstractCommand.java:132)\r\n\tat py4j.commands.CallCommand.execute(CallCommand.java:79)\r\n\tat py4j.ClientServerConnection.waitForCommands(ClientServerConnection.java:182)\r\n\tat py4j.ClientServerConnection.run(ClientServerConnection.java:106)\r\n\tat java.base/java.lang.Thread.run(Thread.java:834)\r\n\n"
     ]
    }
   ],
   "source": [
    "# \n",
    "\n",
    "vw_cards = spark.sql('''\n",
    "    SELECT\n",
    "        id,\n",
    "        client_id,\n",
    "        card_brand,\n",
    "        card_type,\n",
    "        card_number,\n",
    "        expires,\n",
    "        cvv,\n",
    "        has_chip,\n",
    "        num_cards_issued,\n",
    "        credit_limit,\n",
    "        acct_open_date,\n",
    "        year_pin_last_changed,\n",
    "        card_on_dark_web\n",
    "    FROM \n",
    "        tb_cards;\n",
    "''')\n",
    "\n",
    "vw_cards.show(10, truncate=False)"
   ]
  },
  {
   "cell_type": "code",
   "execution_count": null,
   "metadata": {},
   "outputs": [],
   "source": []
  }
 ],
 "metadata": {
  "kernelspec": {
   "display_name": "venv",
   "language": "python",
   "name": "python3"
  },
  "language_info": {
   "codemirror_mode": {
    "name": "ipython",
    "version": 3
   },
   "file_extension": ".py",
   "mimetype": "text/x-python",
   "name": "python",
   "nbconvert_exporter": "python",
   "pygments_lexer": "ipython3",
   "version": "3.12.6"
  }
 },
 "nbformat": 4,
 "nbformat_minor": 4
}

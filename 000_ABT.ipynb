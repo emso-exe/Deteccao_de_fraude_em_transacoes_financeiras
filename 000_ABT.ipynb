{
 "cells": [
  {
   "cell_type": "markdown",
   "metadata": {},
   "source": [
    "# Construção da ABT\n",
    "_ABT - Analytical Base Table_\n",
    "\n",
    "---\n",
    "\n",
    "## Sumário\n",
    "\n",
    "1. **Importação da bibliotecas**\n",
    "2. **Criação e iniciação de uma sessão PySpark**\n",
    "3. **Criação dos datasets a partir da leitura dos arquivos \\*.csv e \\*.json**\n",
    "    - 3.1. Arquivos CSV\n",
    "    - 3.2. Arquivos JSON\n",
    "4. **Análise dos dados**\n",
    "5. **Construção da ABT**\n",
    "\n",
    "<br>\n",
    "\n",
    "---\n",
    "\n",
    "<br>"
   ]
  },
  {
   "cell_type": "markdown",
   "metadata": {},
   "source": [
    "## 1. Importação de bibliotecas"
   ]
  },
  {
   "cell_type": "code",
   "execution_count": 1,
   "metadata": {},
   "outputs": [],
   "source": [
    "from pyspark.sql import SparkSession\n",
    "from pyspark.sql.functions import explode, col, expr, count, lit\n",
    "import json\n",
    "import csv"
   ]
  },
  {
   "cell_type": "markdown",
   "metadata": {},
   "source": [
    "## 2. Criação e iniciação de uma sessão PySpark"
   ]
  },
  {
   "cell_type": "code",
   "execution_count": 2,
   "metadata": {},
   "outputs": [
    {
     "data": {
      "text/html": [
       "\n",
       "            <div>\n",
       "                <p><b>SparkSession - in-memory</b></p>\n",
       "                \n",
       "        <div>\n",
       "            <p><b>SparkContext</b></p>\n",
       "\n",
       "            <p><a href=\"http://rootx:4040\">Spark UI</a></p>\n",
       "\n",
       "            <dl>\n",
       "              <dt>Version</dt>\n",
       "                <dd><code>v3.5.4</code></dd>\n",
       "              <dt>Master</dt>\n",
       "                <dd><code>local[*]</code></dd>\n",
       "              <dt>AppName</dt>\n",
       "                <dd><code>ABT - Transações de clientes</code></dd>\n",
       "            </dl>\n",
       "        </div>\n",
       "        \n",
       "            </div>\n",
       "        "
      ],
      "text/plain": [
       "<pyspark.sql.session.SparkSession at 0x22bf8f31820>"
      ]
     },
     "execution_count": 2,
     "metadata": {},
     "output_type": "execute_result"
    }
   ],
   "source": [
    "appName = 'ABT - Transações de clientes'\n",
    "\n",
    "# O objeto SparkSession configurado com configurações específicas\n",
    "spark = SparkSession.builder \\\n",
    "    .appName(appName) \\\n",
    "    .config('spark.driver.memory', '8g') \\\n",
    "    .config('spark.executor.memory', '8g') \\\n",
    "    .config('spark.master', 'local[*]') \\\n",
    "    .getOrCreate()\n",
    "    \n",
    "spark.sparkContext.setLogLevel('ERROR')\n",
    "\n",
    "spark"
   ]
  },
  {
   "cell_type": "markdown",
   "metadata": {},
   "source": [
    "## 3. Criação dos datasets a partir da leitura dos arquivos *.csv e *.json"
   ]
  },
  {
   "cell_type": "code",
   "execution_count": 3,
   "metadata": {},
   "outputs": [],
   "source": [
    "# Caminho dos arquivos *.csv e *.json\n",
    "caminho = 'dados/'"
   ]
  },
  {
   "cell_type": "markdown",
   "metadata": {},
   "source": [
    "### 3.1. Arquivos CSV"
   ]
  },
  {
   "cell_type": "markdown",
   "metadata": {},
   "source": [
    "- cards_data.csv"
   ]
  },
  {
   "cell_type": "code",
   "execution_count": 4,
   "metadata": {},
   "outputs": [
    {
     "name": "stdout",
     "output_type": "stream",
     "text": [
      "root\n",
      " |-- id: integer (nullable = true)\n",
      " |-- client_id: integer (nullable = true)\n",
      " |-- card_brand: string (nullable = true)\n",
      " |-- card_type: string (nullable = true)\n",
      " |-- card_number: long (nullable = true)\n",
      " |-- expires: string (nullable = true)\n",
      " |-- cvv: integer (nullable = true)\n",
      " |-- has_chip: string (nullable = true)\n",
      " |-- num_cards_issued: integer (nullable = true)\n",
      " |-- credit_limit: string (nullable = true)\n",
      " |-- acct_open_date: string (nullable = true)\n",
      " |-- year_pin_last_changed: integer (nullable = true)\n",
      " |-- card_on_dark_web: string (nullable = true)\n",
      "\n"
     ]
    }
   ],
   "source": [
    "# Dados de cartão de crédito\n",
    "df_cards = spark.read.csv(caminho + 'cards_data.csv', header=True, inferSchema=True)\n",
    "\n",
    "# Exibir o esquema do dataframe\n",
    "df_cards.printSchema()"
   ]
  },
  {
   "cell_type": "markdown",
   "metadata": {},
   "source": [
    "- transactions_data.csv"
   ]
  },
  {
   "cell_type": "code",
   "execution_count": 5,
   "metadata": {},
   "outputs": [
    {
     "name": "stdout",
     "output_type": "stream",
     "text": [
      "root\n",
      " |-- id: integer (nullable = true)\n",
      " |-- date: timestamp (nullable = true)\n",
      " |-- client_id: integer (nullable = true)\n",
      " |-- card_id: integer (nullable = true)\n",
      " |-- amount: string (nullable = true)\n",
      " |-- use_chip: string (nullable = true)\n",
      " |-- merchant_id: integer (nullable = true)\n",
      " |-- merchant_city: string (nullable = true)\n",
      " |-- merchant_state: string (nullable = true)\n",
      " |-- zip: double (nullable = true)\n",
      " |-- mcc: integer (nullable = true)\n",
      " |-- errors: string (nullable = true)\n",
      "\n"
     ]
    }
   ],
   "source": [
    "# Dados de transações\n",
    "df_transactions = spark.read.csv(caminho + 'transactions_data.csv', header=True, inferSchema=True)\n",
    "\n",
    "# Exibir o esquema do dataframe\n",
    "df_transactions.printSchema()"
   ]
  },
  {
   "cell_type": "markdown",
   "metadata": {},
   "source": [
    "- users_data.csv"
   ]
  },
  {
   "cell_type": "code",
   "execution_count": 6,
   "metadata": {},
   "outputs": [
    {
     "name": "stdout",
     "output_type": "stream",
     "text": [
      "root\n",
      " |-- id: integer (nullable = true)\n",
      " |-- current_age: integer (nullable = true)\n",
      " |-- retirement_age: integer (nullable = true)\n",
      " |-- birth_year: integer (nullable = true)\n",
      " |-- birth_month: integer (nullable = true)\n",
      " |-- gender: string (nullable = true)\n",
      " |-- address: string (nullable = true)\n",
      " |-- latitude: double (nullable = true)\n",
      " |-- longitude: double (nullable = true)\n",
      " |-- per_capita_income: string (nullable = true)\n",
      " |-- yearly_income: string (nullable = true)\n",
      " |-- total_debt: string (nullable = true)\n",
      " |-- credit_score: integer (nullable = true)\n",
      " |-- num_credit_cards: integer (nullable = true)\n",
      "\n"
     ]
    }
   ],
   "source": [
    "# Dados de clientes\n",
    "df_clients = spark.read.csv(caminho + 'users_data.csv', header=True, inferSchema=True)\n",
    "\n",
    "# Exibir o esquema do dataframe\n",
    "df_clients.printSchema()"
   ]
  },
  {
   "cell_type": "markdown",
   "metadata": {},
   "source": [
    "### 3.2. Arquivos JSON"
   ]
  },
  {
   "cell_type": "code",
   "execution_count": 7,
   "metadata": {},
   "outputs": [],
   "source": [
    "def process_json_to_csv(json_path, csv_path, list_columns, one_column=None):\n",
    "    '''\n",
    "    Processa um arquivo JSON e converte em CSV.\n",
    "\n",
    "    :param json_path: path + filename.json\n",
    "        Caminho do arquivo JSON de entrada.\n",
    "    :param csv_path: path + filename.csv\n",
    "        Caminho do arquivo CSV de saída.\n",
    "    :param list_columns: list\n",
    "        Lista com os nomes das colunas do CSV.\n",
    "    :param one_column: string (default=None)\n",
    "        Nome da chave no JSON para acessar dados aninhados (opcional).\n",
    "    '''\n",
    "    # Carregar o arquivo JSON\n",
    "    with open(json_path, 'r', encoding='utf-8') as json_file:\n",
    "        data = json.load(json_file)\n",
    "        \n",
    "    if not data:\n",
    "        print('Arquivo JSON está vazio.')\n",
    "        return\n",
    "    \n",
    "    # Processar dados aninhados, se necessário\n",
    "    if one_column:\n",
    "        data = data.get(one_column, {})\n",
    "        if not data:\n",
    "            print(f'A chave \\'{one_column}\\' não foi encontrada ou está vazia no JSON.')\n",
    "            return\n",
    "        print(f'Dados extraídos da chave \\'{one_column}\\'.')\n",
    "    else:\n",
    "        print('Processando JSON sem dados aninhados.')\n",
    "\n",
    "    # Escrever o CSV\n",
    "    with open(csv_path, 'w', encoding='utf-8', newline='') as csv_file:\n",
    "        writer = csv.writer(csv_file)\n",
    "        writer.writerow(list_columns)  # Escrevendo o cabeçalho\n",
    "        \n",
    "        for key, value in data.items():\n",
    "            writer.writerow([key, value])  # Escrevendo as linhas\n",
    "    \n",
    "    print(f'Arquivo CSV gerado com sucesso em {csv_path}.')"
   ]
  },
  {
   "cell_type": "markdown",
   "metadata": {},
   "source": [
    "- mcc_codes.json"
   ]
  },
  {
   "cell_type": "code",
   "execution_count": 8,
   "metadata": {},
   "outputs": [
    {
     "name": "stdout",
     "output_type": "stream",
     "text": [
      "Processando JSON sem dados aninhados.\n",
      "Arquivo CSV gerado com sucesso em dados/mcc_codes.csv.\n"
     ]
    }
   ],
   "source": [
    "# Processar mcc_codes.json\n",
    "json_path = caminho + 'mcc_codes.json'\n",
    "csv_path = caminho + 'mcc_codes.csv'\n",
    "list_columns = ['code', 'description']\n",
    "process_json_to_csv(json_path, csv_path, list_columns)"
   ]
  },
  {
   "cell_type": "code",
   "execution_count": 9,
   "metadata": {},
   "outputs": [
    {
     "name": "stdout",
     "output_type": "stream",
     "text": [
      "root\n",
      " |-- code: integer (nullable = true)\n",
      " |-- description: string (nullable = true)\n",
      "\n"
     ]
    }
   ],
   "source": [
    "# Dados de códigos de categoria de mercadorias\n",
    "df_mcc = spark.read.csv(caminho + 'mcc_codes.csv', header=True, inferSchema=True)\n",
    "\n",
    "# Exibir o esquema do dataframe\n",
    "df_mcc.printSchema()"
   ]
  },
  {
   "cell_type": "markdown",
   "metadata": {},
   "source": [
    "- train_fraud_labels.json"
   ]
  },
  {
   "cell_type": "code",
   "execution_count": 10,
   "metadata": {},
   "outputs": [
    {
     "name": "stdout",
     "output_type": "stream",
     "text": [
      "Dados extraídos da chave 'target'.\n",
      "Arquivo CSV gerado com sucesso em dados/train_fraud_labels.csv.\n"
     ]
    }
   ],
   "source": [
    "# Processar train_fraud_labels.json\n",
    "json_path = caminho + 'train_fraud_labels.json'\n",
    "csv_path = caminho + 'train_fraud_labels.csv'\n",
    "list_columns = ['transaction_id', 'is_fraud']\n",
    "one_column = 'target'\n",
    "process_json_to_csv(json_path, csv_path, list_columns, one_column)"
   ]
  },
  {
   "cell_type": "code",
   "execution_count": 11,
   "metadata": {},
   "outputs": [
    {
     "name": "stdout",
     "output_type": "stream",
     "text": [
      "root\n",
      " |-- transaction_id: integer (nullable = true)\n",
      " |-- is_fraud: string (nullable = true)\n",
      "\n"
     ]
    }
   ],
   "source": [
    "# Dados de rótulos de fraude\n",
    "df_train_fraud = spark.read.csv(caminho + 'train_fraud_labels.csv', header=True, inferSchema=True)\n",
    "\n",
    "# Exibir o esquema do dataframe\n",
    "df_train_fraud.printSchema()"
   ]
  },
  {
   "cell_type": "markdown",
   "metadata": {},
   "source": [
    "## 4. Análise dos dados"
   ]
  },
  {
   "cell_type": "markdown",
   "metadata": {},
   "source": [
    "- Volumetria dos dataframes"
   ]
  },
  {
   "cell_type": "code",
   "execution_count": 12,
   "metadata": {},
   "outputs": [],
   "source": [
    "def dataframe_volumetry(df, df_name):\n",
    "    '''\n",
    "    Exibe a quantidade de linhas e colunas de um dataframe.\n",
    "    \n",
    "    :param df: DataFrame\n",
    "        O dataframe a ser analisado.\n",
    "    :param df_name: string\n",
    "        Nome do dataframe a ser analisado.\n",
    "    '''\n",
    "    print(f'Volumetria do \\033[3m{df_name}\\033[0m')\n",
    "    print(f'Linhas: {df.count()}')\n",
    "    print(f'Colunas: {len(df.columns)}\\n')"
   ]
  },
  {
   "cell_type": "code",
   "execution_count": 13,
   "metadata": {},
   "outputs": [
    {
     "name": "stdout",
     "output_type": "stream",
     "text": [
      "Volumetria do \u001b[3mdf_cards\u001b[0m\n",
      "Linhas: 6146\n",
      "Colunas: 13\n",
      "\n",
      "Volumetria do \u001b[3mdf_transactions\u001b[0m\n",
      "Linhas: 13305915\n",
      "Colunas: 12\n",
      "\n",
      "Volumetria do \u001b[3mdf_clients\u001b[0m\n",
      "Linhas: 2000\n",
      "Colunas: 14\n",
      "\n",
      "Volumetria do \u001b[3mdf_mcc\u001b[0m\n",
      "Linhas: 109\n",
      "Colunas: 2\n",
      "\n",
      "Volumetria do \u001b[3mdf_train_fraud\u001b[0m\n",
      "Linhas: 8914963\n",
      "Colunas: 2\n",
      "\n"
     ]
    }
   ],
   "source": [
    "dataframe_volumetry(df_cards, 'df_cards')\n",
    "dataframe_volumetry(df_transactions, 'df_transactions')\n",
    "dataframe_volumetry(df_clients, 'df_clients')\n",
    "dataframe_volumetry(df_mcc, 'df_mcc')\n",
    "dataframe_volumetry(df_train_fraud, 'df_train_fraud')"
   ]
  },
  {
   "cell_type": "markdown",
   "metadata": {},
   "source": [
    "- Criação de Views temporárias para cada dataframe"
   ]
  },
  {
   "cell_type": "code",
   "execution_count": 14,
   "metadata": {},
   "outputs": [],
   "source": [
    "df_cards.createOrReplaceTempView('tb_cards')\n",
    "df_clients.createOrReplaceTempView('tb_clients')\n",
    "df_mcc.createOrReplaceTempView('tb_mcc')\n",
    "df_train_fraud.createOrReplaceTempView('tb_train_fraud')\n",
    "df_transactions.createOrReplaceTempView('tb_transactions')"
   ]
  },
  {
   "cell_type": "markdown",
   "metadata": {},
   "source": [
    "- Visualizando os dados da tb_cards"
   ]
  },
  {
   "cell_type": "code",
   "execution_count": 15,
   "metadata": {},
   "outputs": [
    {
     "name": "stdout",
     "output_type": "stream",
     "text": [
      "+----+---------+----------+---------------+----------------+-------+---+--------+----------------+------------+--------------+---------------------+----------------+\n",
      "|id  |client_id|card_brand|card_type      |card_number     |expires|cvv|has_chip|num_cards_issued|credit_limit|acct_open_date|year_pin_last_changed|card_on_dark_web|\n",
      "+----+---------+----------+---------------+----------------+-------+---+--------+----------------+------------+--------------+---------------------+----------------+\n",
      "|4524|825      |Visa      |Debit          |4344676511950444|12/2022|623|YES     |2               |$24295      |09/2002       |2008                 |No              |\n",
      "|2731|825      |Visa      |Debit          |4956965974959986|12/2020|393|YES     |2               |$21968      |04/2014       |2014                 |No              |\n",
      "|3701|825      |Visa      |Debit          |4582313478255491|02/2024|719|YES     |2               |$46414      |07/2003       |2004                 |No              |\n",
      "|42  |825      |Visa      |Credit         |4879494103069057|08/2024|693|NO      |1               |$12400      |01/2003       |2012                 |No              |\n",
      "|4659|825      |Mastercard|Debit (Prepaid)|5722874738736011|03/2009|75 |YES     |1               |$28         |09/2008       |2009                 |No              |\n",
      "|4537|1746     |Visa      |Credit         |4404898874682993|09/2003|736|YES     |1               |$27500      |09/2003       |2012                 |No              |\n",
      "|1278|1746     |Visa      |Debit          |4001482973848631|07/2022|972|YES     |2               |$28508      |02/2011       |2011                 |No              |\n",
      "|3687|1746     |Mastercard|Debit          |5627220683410948|06/2022|48 |YES     |2               |$9022       |07/2003       |2015                 |No              |\n",
      "|3465|1746     |Mastercard|Debit (Prepaid)|5711382187309326|11/2020|722|YES     |2               |$54         |06/2010       |2015                 |No              |\n",
      "|3754|1746     |Mastercard|Debit (Prepaid)|5766121508358701|02/2023|908|YES     |1               |$99         |07/2006       |2012                 |No              |\n",
      "+----+---------+----------+---------------+----------------+-------+---+--------+----------------+------------+--------------+---------------------+----------------+\n",
      "only showing top 10 rows\n",
      "\n"
     ]
    }
   ],
   "source": [
    "df_cards.show(10, truncate=False)"
   ]
  },
  {
   "cell_type": "markdown",
   "metadata": {},
   "source": [
    "- Visualizando os dados da tb_clients"
   ]
  },
  {
   "cell_type": "code",
   "execution_count": 16,
   "metadata": {},
   "outputs": [
    {
     "name": "stdout",
     "output_type": "stream",
     "text": [
      "+----+-----------+--------------+----------+-----------+------+------------------------+--------+---------+-----------------+-------------+----------+------------+----------------+\n",
      "|id  |current_age|retirement_age|birth_year|birth_month|gender|address                 |latitude|longitude|per_capita_income|yearly_income|total_debt|credit_score|num_credit_cards|\n",
      "+----+-----------+--------------+----------+-----------+------+------------------------+--------+---------+-----------------+-------------+----------+------------+----------------+\n",
      "|825 |53         |66            |1966      |11         |Female|462 Rose Lane           |34.15   |-117.76  |$29278           |$59696       |$127613   |787         |5               |\n",
      "|1746|53         |68            |1966      |12         |Female|3606 Federal Boulevard  |40.76   |-73.74   |$37891           |$77254       |$191349   |701         |5               |\n",
      "|1718|81         |67            |1938      |11         |Female|766 Third Drive         |34.02   |-117.89  |$22681           |$33483       |$196      |698         |5               |\n",
      "|708 |63         |63            |1957      |1          |Female|3 Madison Street        |40.71   |-73.99   |$163145          |$249925      |$202328   |722         |4               |\n",
      "|1164|43         |70            |1976      |9          |Male  |9620 Valley Stream Drive|37.76   |-122.44  |$53797           |$109687      |$183855   |675         |1               |\n",
      "|68  |42         |70            |1977      |10         |Male  |58 Birch Lane           |41.55   |-90.6    |$20599           |$41997       |$0        |704         |3               |\n",
      "|1075|36         |67            |1983      |12         |Female|5695 Fifth Street       |38.22   |-85.74   |$25258           |$51500       |$102286   |672         |3               |\n",
      "|1711|26         |67            |1993      |12         |Male  |1941 Ninth Street       |45.51   |-122.64  |$26790           |$54623       |$114711   |728         |1               |\n",
      "|1116|81         |66            |1938      |7          |Female|11 Spruce Avenue        |40.32   |-75.32   |$26273           |$42509       |$2895     |755         |5               |\n",
      "|1752|34         |60            |1986      |1          |Female|887 Grant Street        |29.97   |-92.12   |$18730           |$38190       |$81262    |810         |1               |\n",
      "+----+-----------+--------------+----------+-----------+------+------------------------+--------+---------+-----------------+-------------+----------+------------+----------------+\n",
      "only showing top 10 rows\n",
      "\n"
     ]
    }
   ],
   "source": [
    "df_clients.show(10, truncate=False)"
   ]
  },
  {
   "cell_type": "markdown",
   "metadata": {},
   "source": [
    "- Visualizando os dados da tb_mcc"
   ]
  },
  {
   "cell_type": "code",
   "execution_count": 17,
   "metadata": {},
   "outputs": [
    {
     "name": "stdout",
     "output_type": "stream",
     "text": [
      "+----+------------------------------------------+\n",
      "|code|description                               |\n",
      "+----+------------------------------------------+\n",
      "|5812|Eating Places and Restaurants             |\n",
      "|5541|Service Stations                          |\n",
      "|7996|Amusement Parks, Carnivals, Circuses      |\n",
      "|5411|Grocery Stores, Supermarkets              |\n",
      "|4784|Tolls and Bridge Fees                     |\n",
      "|4900|Utilities - Electric, Gas, Water, Sanitary|\n",
      "|5942|Book Stores                               |\n",
      "|5814|Fast Food Restaurants                     |\n",
      "|4829|Money Transfer                            |\n",
      "|5311|Department Stores                         |\n",
      "+----+------------------------------------------+\n",
      "only showing top 10 rows\n",
      "\n"
     ]
    }
   ],
   "source": [
    "df_mcc.show(10, truncate=False)"
   ]
  },
  {
   "cell_type": "markdown",
   "metadata": {},
   "source": [
    "- Visualizando os dados da tb_train_fraud"
   ]
  },
  {
   "cell_type": "code",
   "execution_count": 18,
   "metadata": {},
   "outputs": [
    {
     "name": "stdout",
     "output_type": "stream",
     "text": [
      "+--------------+--------+\n",
      "|transaction_id|is_fraud|\n",
      "+--------------+--------+\n",
      "|10649266      |No      |\n",
      "|23410063      |No      |\n",
      "|9316588       |No      |\n",
      "|12478022      |No      |\n",
      "|9558530       |No      |\n",
      "|12532830      |No      |\n",
      "|19526714      |No      |\n",
      "|9906964       |No      |\n",
      "|13224888      |No      |\n",
      "|13749094      |No      |\n",
      "+--------------+--------+\n",
      "only showing top 10 rows\n",
      "\n"
     ]
    }
   ],
   "source": [
    "df_train_fraud.show(10, truncate=False)"
   ]
  },
  {
   "cell_type": "markdown",
   "metadata": {},
   "source": [
    "- Visualizando os dados da tb_transactions"
   ]
  },
  {
   "cell_type": "code",
   "execution_count": 19,
   "metadata": {},
   "outputs": [
    {
     "name": "stdout",
     "output_type": "stream",
     "text": [
      "+-------+-------------------+---------+-------+-------+------------------+-----------+-------------+--------------+-------+----+------+\n",
      "|id     |date               |client_id|card_id|amount |use_chip          |merchant_id|merchant_city|merchant_state|zip    |mcc |errors|\n",
      "+-------+-------------------+---------+-------+-------+------------------+-----------+-------------+--------------+-------+----+------+\n",
      "|7475327|2010-01-01 00:01:00|1556     |2972   |$-77.00|Swipe Transaction |59935      |Beulah       |ND            |58523.0|5499|NULL  |\n",
      "|7475328|2010-01-01 00:02:00|561      |4575   |$14.57 |Swipe Transaction |67570      |Bettendorf   |IA            |52722.0|5311|NULL  |\n",
      "|7475329|2010-01-01 00:02:00|1129     |102    |$80.00 |Swipe Transaction |27092      |Vista        |CA            |92084.0|4829|NULL  |\n",
      "|7475331|2010-01-01 00:05:00|430      |2860   |$200.00|Swipe Transaction |27092      |Crown Point  |IN            |46307.0|4829|NULL  |\n",
      "|7475332|2010-01-01 00:06:00|848      |3915   |$46.41 |Swipe Transaction |13051      |Harwood      |MD            |20776.0|5813|NULL  |\n",
      "|7475333|2010-01-01 00:07:00|1807     |165    |$4.81  |Swipe Transaction |20519      |Bronx        |NY            |10464.0|5942|NULL  |\n",
      "|7475334|2010-01-01 00:09:00|1556     |2972   |$77.00 |Swipe Transaction |59935      |Beulah       |ND            |58523.0|5499|NULL  |\n",
      "|7475335|2010-01-01 00:14:00|1684     |2140   |$26.46 |Online Transaction|39021      |ONLINE       |NULL          |NULL   |4784|NULL  |\n",
      "|7475336|2010-01-01 00:21:00|335      |5131   |$261.58|Online Transaction|50292      |ONLINE       |NULL          |NULL   |7801|NULL  |\n",
      "|7475337|2010-01-01 00:21:00|351      |1112   |$10.74 |Swipe Transaction |3864       |Flushing     |NY            |11355.0|5813|NULL  |\n",
      "+-------+-------------------+---------+-------+-------+------------------+-----------+-------------+--------------+-------+----+------+\n",
      "only showing top 10 rows\n",
      "\n"
     ]
    }
   ],
   "source": [
    "df_transactions.show(10, truncate=False)"
   ]
  },
  {
   "cell_type": "markdown",
   "metadata": {},
   "source": [
    "## 5. Construção da ABT"
   ]
  },
  {
   "cell_type": "markdown",
   "metadata": {},
   "source": [
    "- Alterando o nome das colunas de identificação dos dataframes"
   ]
  },
  {
   "cell_type": "code",
   "execution_count": 20,
   "metadata": {},
   "outputs": [],
   "source": [
    "df_cards = df_cards.withColumnRenamed('id', 'id_card')\n",
    "df_cards = df_cards.withColumnRenamed('client_id', 'client_id_card')\n",
    "df_clients = df_clients.withColumnRenamed('id', 'id_client')\n"
   ]
  },
  {
   "cell_type": "markdown",
   "metadata": {},
   "source": [
    "- Executando o _join_ entre os dataframes"
   ]
  },
  {
   "cell_type": "code",
   "execution_count": 21,
   "metadata": {},
   "outputs": [],
   "source": [
    "abt_01 = df_transactions \\\n",
    "    .join(df_cards, df_transactions['card_id'] == df_cards['id_card'], how='inner') \\\n",
    "    .join(df_clients, df_transactions['client_id'] == df_clients['id_client'], how='inner') \\\n",
    "    .join(df_mcc, df_transactions['mcc'] == df_mcc['code'], how='inner') \\\n",
    "    .join(df_train_fraud, df_transactions['id'] == df_train_fraud['transaction_id'], how='left')      \n",
    "    "
   ]
  },
  {
   "cell_type": "code",
   "execution_count": 22,
   "metadata": {},
   "outputs": [
    {
     "name": "stdout",
     "output_type": "stream",
     "text": [
      "+-------+-------------------+---------+-------+-------+------------------+-----------+-------------+--------------+-------+----+------+--------------+--------+-------+--------------+----------+---------+----------------+-------+---+--------+----------------+------------+--------------+---------------------+----------------+---------+-----------+--------------+----------+-----------+------+----------------------------+--------+---------+-----------------+-------------+----------+------------+----------------+----+------------------------------------------+\n",
      "|id     |date               |client_id|card_id|amount |use_chip          |merchant_id|merchant_city|merchant_state|zip    |mcc |errors|transaction_id|is_fraud|id_card|client_id_card|card_brand|card_type|card_number     |expires|cvv|has_chip|num_cards_issued|credit_limit|acct_open_date|year_pin_last_changed|card_on_dark_web|id_client|current_age|retirement_age|birth_year|birth_month|gender|address                     |latitude|longitude|per_capita_income|yearly_income|total_debt|credit_score|num_credit_cards|code|description                               |\n",
      "+-------+-------------------+---------+-------+-------+------------------+-----------+-------------+--------------+-------+----+------+--------------+--------+-------+--------------+----------+---------+----------------+-------+---+--------+----------------+------------+--------------+---------------------+----------------+---------+-----------+--------------+----------+-----------+------+----------------------------+--------+---------+-----------------+-------------+----------+------------+----------------+----+------------------------------------------+\n",
      "|7475336|2010-01-01 00:21:00|335      |5131   |$261.58|Online Transaction|50292      |ONLINE       |NULL          |NULL   |7801|NULL  |NULL          |NULL    |5131   |335           |Visa      |Debit    |4414800408438414|06/2020|833|YES     |1               |$23401      |10/2008       |2011                 |No              |335      |46         |68            |1973      |7          |Female|75 Birch Lane               |26.74   |-80.12   |$27696           |$56467       |$66565    |688         |3               |7801|Athletic Fields, Commercial Sports        |\n",
      "|7475338|2010-01-01 00:23:00|554      |3912   |$3.51  |Swipe Transaction |67570      |Pearland     |TX            |77581.0|5311|NULL  |7475338       |No      |3912   |554           |Visa      |Debit    |4096589319918041|04/2021|856|NO      |1               |$25658      |07/2009       |2009                 |No              |554      |59         |67            |1960      |8          |Male  |6310 Sixth Street           |29.66   |-95.04   |$26170           |$53357       |$114266   |690         |5               |5311|Department Stores                         |\n",
      "|7475353|2010-01-01 00:43:00|301      |3742   |$10.17 |Online Transaction|39021      |ONLINE       |NULL          |NULL   |4784|NULL  |7475353       |No      |3742   |301           |Visa      |Credit   |4180974548713374|05/2023|975|YES     |1               |$21000      |07/2005       |2009                 |No              |301      |47         |69            |1972      |11         |Male  |6009 River Avenue           |34.24   |-84.49   |$25654           |$52308       |$135319   |679         |1               |4784|Tolls and Bridge Fees                     |\n",
      "|7475356|2010-01-01 00:45:00|566      |3439   |$16.86 |Online Transaction|16798      |ONLINE       |NULL          |NULL   |4121|NULL  |NULL          |NULL    |3439   |566           |Mastercard|Credit   |5578674156872455|02/2023|118|YES     |1               |$11000      |06/2009       |2009                 |No              |566      |60         |67            |1959      |10         |Female|8179 Valley Stream Drive    |42.79   |-83.62   |$22680           |$46244       |$108449   |814         |5               |4121|Taxicabs and Limousines                   |\n",
      "|7475365|2010-01-01 01:01:00|820      |127    |$270.22|Online Transaction|73186      |ONLINE       |NULL          |NULL   |4814|NULL  |7475365       |No      |127    |820           |Mastercard|Debit    |5738964942904646|11/2020|730|YES     |1               |$20759      |01/2007       |2009                 |No              |820      |70         |59            |1949      |12         |Female|669 South Street            |41.7    |-70.3    |$26762           |$41902       |$29713    |633         |5               |4814|Telecommunication Services                |\n",
      "|7475379|2010-01-01 01:22:00|986      |4755   |$1.85  |Swipe Transaction |14528      |Garden City  |NY            |11530.0|5499|NULL  |7475379       |No      |4755   |986           |Visa      |Debit    |4947422352493090|01/2023|940|YES     |2               |$15094      |09/2009       |2011                 |No              |986      |32         |70            |1987      |7          |Male  |6577 Lexington Lane         |40.65   |-73.58   |$23550           |$48010       |$87837    |703         |3               |5499|Miscellaneous Food Stores                 |\n",
      "|7475400|2010-01-01 01:54:00|597      |4540   |$14.20 |Swipe Transaction |66541      |San Francisco|CA            |94131.0|5300|NULL  |7475400       |No      |4540   |597           |Visa      |Debit    |4682047932663844|01/2023|822|YES     |2               |$76343      |09/2003       |2014                 |No              |597      |72         |66            |1948      |1          |Male  |5138 North Drive            |37.74   |-122.44  |$51692           |$65055       |$1676     |736         |6               |5300|Wholesale Clubs                           |\n",
      "|7475417|2010-01-01 02:11:00|34       |1166   |$4.07  |Swipe Transaction |49789      |Sacramento   |CA            |95829.0|5541|NULL  |7475417       |No      |1166   |34            |Mastercard|Debit    |5039048842448184|11/2023|339|YES     |2               |$10775      |02/2009       |2010                 |No              |34       |41         |55            |1978      |8          |Male  |7467 Spruce Drive           |38.48   |-121.34  |$25431           |$51854       |$72162    |737         |2               |5541|Service Stations                          |\n",
      "|7475419|2010-01-01 02:12:00|1424     |4710   |$2.31  |Swipe Transaction |95811      |Seligman     |AZ            |86337.0|5411|NULL  |7475419       |No      |4710   |1424          |Mastercard|Credit   |5033949193863455|05/2021|76 |YES     |2               |$8000       |09/2009       |2011                 |No              |1424     |101        |68            |1918      |5          |Female|887 Third Boulevard         |35.13   |-112.99  |$13086           |$15348       |$1396     |761         |4               |5411|Grocery Stores, Supermarkets              |\n",
      "|7475432|2010-01-01 02:25:00|1214     |5508   |$51.58 |Online Transaction|98436      |ONLINE       |NULL          |NULL   |5192|NULL  |7475432       |No      |5508   |1214          |Visa      |Debit    |4968168260037253|05/2021|607|YES     |1               |$21073      |11/2007       |2011                 |No              |1214     |40         |64            |1979      |11         |Male  |83302 Valley Stream Lane    |42.06   |-71.24   |$35544           |$72470       |$133421   |711         |2               |5192|Books, Periodicals, Newspapers            |\n",
      "|7475454|2010-01-01 02:57:00|1459     |3383   |$2.75  |Swipe Transaction |47756      |Albuquerque  |NM            |87121.0|5411|NULL  |NULL          |NULL    |3383   |1459          |Mastercard|Debit    |5197434740318528|08/2023|239|NO      |2               |$12708      |06/2008       |2008                 |No              |1459     |53         |65            |1967      |2          |Male  |9385 Birch Street           |35.11   |-106.62  |$15385           |$31369       |$0        |707         |3               |5411|Grocery Stores, Supermarkets              |\n",
      "|7475464|2010-01-01 03:13:00|957      |4532   |$14.21 |Swipe Transaction |44795      |Marysville   |OH            |43040.0|3780|NULL  |7475464       |No      |4532   |957           |Mastercard|Debit    |5405712448987535|06/2020|515|NO      |1               |$27974      |09/2003       |2012                 |No              |957      |73         |64            |1946      |9          |Female|862 Martin Luther King Drive|39.17   |-77.26   |$33637           |$37789       |$24575    |605         |3               |3780|Computer Network Services                 |\n",
      "|7475487|2010-01-01 04:05:00|1382     |2838   |$93.13 |Swipe Transaction |22014      |Dallas       |TX            |75253.0|4900|NULL  |NULL          |NULL    |2838   |1382          |Mastercard|Debit    |5947766191531250|10/2024|760|YES     |2               |$11415      |05/2003       |2013                 |No              |1382     |58         |65            |1961      |7          |Male  |16 Eighth Lane              |32.79   |-96.76   |$12693           |$25883       |$44404    |706         |4               |4900|Utilities - Electric, Gas, Water, Sanitary|\n",
      "|7475495|2010-01-01 04:21:00|1635     |115    |$14.50 |Swipe Transaction |45501      |Jamaica      |NY            |11434.0|5912|NULL  |7475495       |No      |115    |1635          |Visa      |Debit    |4237044992015683|10/2022|443|YES     |2               |$24876      |01/2006       |2009                 |No              |1635     |54         |58            |1965      |3          |Male  |90 Sussex Drive             |40.68   |-73.78   |$20760           |$42332       |$75213    |616         |6               |5912|Drug Stores and Pharmacies                |\n",
      "|7475501|2010-01-01 04:31:00|526      |5917   |$22.23 |Online Transaction|16798      |ONLINE       |NULL          |NULL   |4121|NULL  |7475501       |No      |5917   |526           |Visa      |Debit    |4186305659535998|11/2020|674|YES     |2               |$23001      |12/2007       |2013                 |No              |526      |51         |62            |1968      |3          |Female|54870 Lexington Drive       |25.77   |-80.2    |$31625           |$64481       |$114394   |627         |5               |4121|Taxicabs and Limousines                   |\n",
      "|7475510|2010-01-01 04:49:00|1629     |4290   |$26.38 |Online Transaction|39021      |ONLINE       |NULL          |NULL   |4784|NULL  |NULL          |NULL    |4290   |1629          |Mastercard|Debit    |5366247073382596|04/2021|515|YES     |2               |$18776      |08/2009       |2012                 |No              |1629     |42         |63            |1977      |6          |Female|53789 Bayview Street        |26.14   |-80.13   |$14430           |$29422       |$58679    |598         |1               |4784|Tolls and Bridge Fees                     |\n",
      "|7475564|2010-01-01 05:56:00|530      |3344   |$2.98  |Swipe Transaction |88646      |Colton       |CA            |92324.0|5812|NULL  |7475564       |No      |3344   |530           |Mastercard|Debit    |5919043204819594|02/2020|711|NO      |2               |$15061      |06/2007       |2007                 |No              |530      |78         |68            |1941      |7          |Male  |34533 Ninth Avenue          |34.06   |-117.39  |$14709           |$18100       |$0        |682         |6               |5812|Eating Places and Restaurants             |\n",
      "|7475570|2010-01-01 06:00:00|1080     |2562   |$43.13 |Swipe Transaction |11468      |Macon        |GA            |31204.0|5970|NULL  |7475570       |No      |2562   |1080          |Mastercard|Debit    |5657550046539675|06/2021|692|YES     |1               |$1470       |04/2008       |2008                 |No              |1080     |56         |63            |1963      |11         |Female|4581 Eighth Boulevard       |32.19   |-83.17   |$14425           |$29413       |$46043    |703         |2               |5970|Artist Supply Stores, Craft Shops         |\n",
      "|7475600|2010-01-01 06:08:00|1381     |3738   |$5.41  |Swipe Transaction |11264      |Mentor       |OH            |44060.0|5812|NULL  |7475600       |No      |3738   |1381          |Mastercard|Debit    |5382896062305963|11/2022|543|YES     |1               |$22964      |07/2005       |2011                 |No              |1381     |79         |68            |1940      |10         |Male  |1699 West Lane              |41.69   |-81.33   |$24878           |$29517       |$2470     |690         |4               |5812|Eating Places and Restaurants             |\n",
      "|7475604|2010-01-01 06:09:00|1150     |4672   |$7.09  |Swipe Transaction |19464      |Hurst        |TX            |76054.0|5812|NULL  |7475604       |No      |4672   |1150          |Mastercard|Debit    |5770382684241108|06/2015|832|YES     |2               |$29486      |09/2008       |2008                 |No              |1150     |46         |67            |1973      |4          |Male  |5692 Jefferson Boulevard    |32.83   |-97.17   |$30913           |$63030       |$93406    |791         |5               |5812|Eating Places and Restaurants             |\n",
      "+-------+-------------------+---------+-------+-------+------------------+-----------+-------------+--------------+-------+----+------+--------------+--------+-------+--------------+----------+---------+----------------+-------+---+--------+----------------+------------+--------------+---------------------+----------------+---------+-----------+--------------+----------+-----------+------+----------------------------+--------+---------+-----------------+-------------+----------+------------+----------------+----+------------------------------------------+\n",
      "only showing top 20 rows\n",
      "\n"
     ]
    }
   ],
   "source": [
    "abt_01.show(20, truncate=False)"
   ]
  },
  {
   "cell_type": "markdown",
   "metadata": {},
   "source": [
    "- Criação de View temporária para abt"
   ]
  },
  {
   "cell_type": "code",
   "execution_count": 23,
   "metadata": {},
   "outputs": [],
   "source": [
    "abt_01.createOrReplaceTempView('tb_abt_01')"
   ]
  },
  {
   "cell_type": "markdown",
   "metadata": {},
   "source": [
    "### 5.1. Análise de dados da ABT"
   ]
  },
  {
   "cell_type": "markdown",
   "metadata": {},
   "source": [
    "- Panorama geral dos dados"
   ]
  },
  {
   "cell_type": "code",
   "execution_count": 51,
   "metadata": {},
   "outputs": [
    {
     "name": "stdout",
     "output_type": "stream",
     "text": [
      "+----+---------------+-------------+----------------+------------+-----------------+------------+\n",
      "|ANO |QTDE_TRANSACOES|QTDE_CLIENTES|TOTAL_TRANSACOES|QTDE_CARTOES|QTDE_COMERCIANTES|QTDE_FRAUDES|\n",
      "+----+---------------+-------------+----------------+------------+-----------------+------------+\n",
      "|2010|1240880        |1137         |54232556.12     |2896        |27901            |2573        |\n",
      "|2011|1290770        |1167         |55778904.96     |3137        |28153            |37          |\n",
      "|2012|1321672        |1177         |56832410.86     |3245        |28710            |923         |\n",
      "|2013|1352808        |1190         |58284939.62     |3339        |29280            |1337        |\n",
      "|2014|1365537        |1195         |58617820.51     |3418        |28987            |664         |\n",
      "|2015|1388065        |1204         |59514007.43     |3473        |29616            |2189        |\n",
      "|2016|1392117        |1210         |59844028.90     |3497        |29600            |2448        |\n",
      "|2017|1399308        |1209         |59628480.63     |3492        |29781            |172         |\n",
      "|2018|1394792        |1208         |59627317.94     |3488        |29435            |1629        |\n",
      "|2019|1159966        |1206         |49475055.31     |3437        |27516            |1360        |\n",
      "+----+---------------+-------------+----------------+------------+-----------------+------------+\n",
      "\n"
     ]
    }
   ],
   "source": [
    "query_01 = spark.sql('''\n",
    "    SELECT\n",
    "        YEAR(TO_DATE(date, 'yyyy-MM-dd')) AS ANO,\n",
    "        COUNT(id) AS QTDE_TRANSACOES,\n",
    "        COUNT(DISTINCT client_id) AS QTDE_CLIENTES,\n",
    "        SUM(CAST(REPLACE(amount, '$', '') AS DECIMAL(10,2))) AS TOTAL_TRANSACOES,\n",
    "        COUNT(DISTINCT card_id) AS QTDE_CARTOES,\n",
    "        COUNT(DISTINCT merchant_id) AS QTDE_COMERCIANTES,\n",
    "        SUM(CASE WHEN is_fraud != 'No' THEN 1 ELSE 0 END) AS QTDE_FRAUDES\n",
    "    FROM\n",
    "        tb_abt_01\n",
    "    GROUP BY\n",
    "        ANO\n",
    "    ORDER BY\n",
    "        ANO                  \n",
    "''').show(20, truncate=False)\n"
   ]
  },
  {
   "cell_type": "markdown",
   "metadata": {},
   "source": [
    "- Análise das transações por cartão"
   ]
  },
  {
   "cell_type": "code",
   "execution_count": 25,
   "metadata": {},
   "outputs": [
    {
     "name": "stdout",
     "output_type": "stream",
     "text": [
      "+-----------+------------------+---------------+------------+\n",
      "|CONTEM_CHIP|TIPO_USO_CARTAO   |QTDE_TRANSACOES|QTDE_FRAUDES|\n",
      "+-----------+------------------+---------------+------------+\n",
      "|YES        |Swipe Transaction |5774805        |801         |\n",
      "|YES        |Chip Transaction  |4780818        |3176        |\n",
      "|YES        |Online Transaction|1419172        |8155        |\n",
      "|NO         |Swipe Transaction |1192380        |576         |\n",
      "|NO         |Online Transaction|138740         |624         |\n",
      "+-----------+------------------+---------------+------------+\n",
      "\n"
     ]
    }
   ],
   "source": [
    "query_02 = spark.sql('''\n",
    "    SELECT \n",
    "        has_chip AS CONTEM_CHIP,\n",
    "        use_chip AS TIPO_USO_CARTAO, \n",
    "        COUNT(*) AS QTDE_TRANSACOES,\n",
    "        SUM(CASE WHEN is_fraud != 'No' THEN 1 ELSE 0 END) AS QTDE_FRAUDES\n",
    "    FROM \n",
    "        tb_abt_01\n",
    "    GROUP BY \n",
    "        use_chip, has_chip\n",
    "    ORDER BY \n",
    "        QTDE_TRANSACOES DESC\n",
    "''').show(20, truncate=False)\n"
   ]
  },
  {
   "cell_type": "markdown",
   "metadata": {},
   "source": [
    "- Análise das transações e valores fraudulentos"
   ]
  },
  {
   "cell_type": "code",
   "execution_count": 50,
   "metadata": {},
   "outputs": [
    {
     "name": "stdout",
     "output_type": "stream",
     "text": [
      "+----+------------+-------------------+-------------------+-------------------+-------------------+\n",
      "|ANO |QTDE_FRAUDES|AVG_VALORES_FRAUDES|SUM_VALORES_FRAUDES|MAX_VALORES_FRAUDES|MIN_VALORES_FRAUDES|\n",
      "+----+------------+-------------------+-------------------+-------------------+-------------------+\n",
      "|2010|2573        |119.680074         |307936.83          |4978.45            |-497.00            |\n",
      "|2011|37          |128.254054         |4745.40            |540.30             |-388.00            |\n",
      "|2012|923         |79.074171          |72985.46           |1073.75            |-492.00            |\n",
      "|2013|1337        |114.708123         |153364.76          |2263.61            |-493.00            |\n",
      "|2014|664         |112.793373         |74894.80           |2251.32            |-492.00            |\n",
      "|2015|2189        |127.794966         |279743.18          |2930.44            |-497.00            |\n",
      "|2016|2448        |128.202745         |313840.32          |2505.58            |-500.00            |\n",
      "|2017|172         |89.525930          |15398.46           |1198.72            |-143.00            |\n",
      "|2018|1629        |80.009810          |130335.98          |1343.48            |-484.00            |\n",
      "|2019|1360        |85.590875          |116403.59          |1244.41            |-475.00            |\n",
      "+----+------------+-------------------+-------------------+-------------------+-------------------+\n",
      "\n"
     ]
    }
   ],
   "source": [
    "query_03 = spark.sql('''\n",
    "    SELECT \n",
    "        YEAR(TO_DATE(date, 'yyyy-MM-dd')) AS ANO,\n",
    "        COUNT(id) AS QTDE_FRAUDES, \n",
    "        AVG(CAST(REPLACE(amount, '$', '') AS DECIMAL(10,2))) AS AVG_VALORES_FRAUDES,\n",
    "        SUM(CAST(REPLACE(amount, '$', '') AS DECIMAL(10,2))) AS SUM_VALORES_FRAUDES,\n",
    "        MAX(CAST(REPLACE(amount, '$', '') AS DECIMAL(10,2))) AS MAX_VALORES_FRAUDES,\n",
    "        MIN(CAST(REPLACE(amount, '$', '') AS DECIMAL(10,2))) AS MIN_VALORES_FRAUDES\n",
    "    FROM\n",
    "        tb_abt_01\n",
    "    WHERE \n",
    "        is_fraud != 'No'\n",
    "    GROUP BY\n",
    "        ANO\n",
    "    ORDER BY\n",
    "        ANO\n",
    "''').show(20, truncate=False)"
   ]
  },
  {
   "cell_type": "markdown",
   "metadata": {},
   "source": [
    "- Análise da distribuição das transações por faixa etária"
   ]
  },
  {
   "cell_type": "code",
   "execution_count": 49,
   "metadata": {},
   "outputs": [
    {
     "name": "stdout",
     "output_type": "stream",
     "text": [
      "+---------+---------------+------------+\n",
      "|age_range|QTDE_TRANSACOES|QTDE_FRAUDES|\n",
      "+---------+---------------+------------+\n",
      "|21-30    |428671         |318         |\n",
      "|31-40    |2377562        |2041        |\n",
      "|41-50    |3396784        |3234        |\n",
      "|51-60    |2943032        |2880        |\n",
      "|61-70    |2105384        |2479        |\n",
      "|71-80    |970658         |1136        |\n",
      "|81-90    |864655         |1077        |\n",
      "|90+      |219169         |167         |\n",
      "+---------+---------------+------------+\n",
      "\n"
     ]
    }
   ],
   "source": [
    "query_03 = spark.sql('''\n",
    "SELECT\n",
    "    CASE\n",
    "        WHEN current_age BETWEEN 0 AND 10 THEN '0-10'\n",
    "        WHEN current_age BETWEEN 11 AND 20 THEN '11-20'\n",
    "        WHEN current_age BETWEEN 21 AND 30 THEN '21-30'\n",
    "        WHEN current_age BETWEEN 31 AND 40 THEN '31-40'\n",
    "        WHEN current_age BETWEEN 41 AND 50 THEN '41-50'\n",
    "        WHEN current_age BETWEEN 51 AND 60 THEN '51-60'\n",
    "        WHEN current_age BETWEEN 61 AND 70 THEN '61-70'\n",
    "        WHEN current_age BETWEEN 71 AND 80 THEN '71-80'\n",
    "        WHEN current_age BETWEEN 81 AND 90 THEN '81-90'\n",
    "        ELSE '90+'\n",
    "    END AS age_range,\n",
    "    COUNT(*) AS QTDE_TRANSACOES,\n",
    "    SUM(CASE WHEN is_fraud != 'No' THEN 1 ELSE 0 END) AS QTDE_FRAUDES\n",
    "FROM tb_abt_01\n",
    "GROUP BY age_range\n",
    "ORDER BY age_range\n",
    "''').show(20, truncate=False)\n",
    "                    "
   ]
  },
  {
   "cell_type": "code",
   "execution_count": 25,
   "metadata": {},
   "outputs": [
    {
     "name": "stdout",
     "output_type": "stream",
     "text": [
      "Encerrando o script, mas mantendo o ambiente interativo ativo.\n"
     ]
    }
   ],
   "source": [
    "import sys\n",
    "\n",
    "try:\n",
    "    sys.exit()\n",
    "except SystemExit:\n",
    "    print('Encerrando o script, mas mantendo o ambiente interativo ativo.')\n"
   ]
  }
 ],
 "metadata": {
  "kernelspec": {
   "display_name": "Python 3 (ipykernel)",
   "language": "python",
   "name": "python3"
  },
  "language_info": {
   "codemirror_mode": {
    "name": "ipython",
    "version": 3
   },
   "file_extension": ".py",
   "mimetype": "text/x-python",
   "name": "python",
   "nbconvert_exporter": "python",
   "pygments_lexer": "ipython3",
   "version": "3.12.8"
  }
 },
 "nbformat": 4,
 "nbformat_minor": 4
}

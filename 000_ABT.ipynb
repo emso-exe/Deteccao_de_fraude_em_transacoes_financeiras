{
 "cells": [
  {
   "cell_type": "markdown",
   "metadata": {},
   "source": [
    "# Construção da ABT\n",
    "_ABT - Analytical Base Table_\n",
    "\n",
    "---\n",
    "\n",
    "## Sumário\n",
    "\n",
    "1. **Importação da bibliotecas**\n",
    "2. **Criação e iniciação de uma sessão PySpark**\n",
    "3. **Criação dos datasets a partir da leitura dos arquivos \\*.csv e \\*.json**\n",
    "    - 3.1. Arquivos CSV\n",
    "    - 3.2. Arquivos JSON\n",
    "4. **Análise dos dados**\n",
    "5. **Construção da ABT**\n",
    "    - 5.1. Análise de dados da ABT\n",
    "    - 5.2. Análise do target da ABT\n",
    "    - 5.3. Gerando uma amostra representativa da ABT\n",
    "\n",
    "<br>\n",
    "\n",
    "---\n",
    "\n",
    "<br>"
   ]
  },
  {
   "cell_type": "markdown",
   "metadata": {},
   "source": [
    "## 1. Importação de bibliotecas"
   ]
  },
  {
   "cell_type": "code",
   "execution_count": 1,
   "metadata": {},
   "outputs": [],
   "source": [
    "from pyspark.sql import SparkSession\n",
    "from pyspark.sql.functions import explode, col, expr, count, lit\n",
    "import json\n",
    "import csv"
   ]
  },
  {
   "cell_type": "markdown",
   "metadata": {},
   "source": [
    "## 2. Criação e iniciação de uma sessão PySpark"
   ]
  },
  {
   "cell_type": "code",
   "execution_count": 2,
   "metadata": {},
   "outputs": [
    {
     "data": {
      "text/html": [
       "\n",
       "            <div>\n",
       "                <p><b>SparkSession - in-memory</b></p>\n",
       "                \n",
       "        <div>\n",
       "            <p><b>SparkContext</b></p>\n",
       "\n",
       "            <p><a href=\"http://rootx:4040\">Spark UI</a></p>\n",
       "\n",
       "            <dl>\n",
       "              <dt>Version</dt>\n",
       "                <dd><code>v3.5.4</code></dd>\n",
       "              <dt>Master</dt>\n",
       "                <dd><code>local[*]</code></dd>\n",
       "              <dt>AppName</dt>\n",
       "                <dd><code>ABT - Transações de clientes</code></dd>\n",
       "            </dl>\n",
       "        </div>\n",
       "        \n",
       "            </div>\n",
       "        "
      ],
      "text/plain": [
       "<pyspark.sql.session.SparkSession at 0x1e70531a570>"
      ]
     },
     "execution_count": 2,
     "metadata": {},
     "output_type": "execute_result"
    }
   ],
   "source": [
    "appName = 'ABT - Transações de clientes'\n",
    "\n",
    "# O objeto SparkSession configurado com configurações específicas\n",
    "spark = SparkSession.builder \\\n",
    "    .appName(appName) \\\n",
    "    .config('spark.driver.memory', '8g') \\\n",
    "    .config('spark.executor.memory', '8g') \\\n",
    "    .config('spark.master', 'local[*]') \\\n",
    "    .getOrCreate()\n",
    "    \n",
    "spark.sparkContext.setLogLevel('ERROR')\n",
    "\n",
    "spark"
   ]
  },
  {
   "cell_type": "markdown",
   "metadata": {},
   "source": [
    "## 3. Criação dos datasets a partir da leitura dos arquivos *.csv e *.json"
   ]
  },
  {
   "cell_type": "code",
   "execution_count": 3,
   "metadata": {},
   "outputs": [],
   "source": [
    "# Caminho dos arquivos *.csv e *.json\n",
    "caminho = 'dados/'"
   ]
  },
  {
   "cell_type": "markdown",
   "metadata": {},
   "source": [
    "### 3.1. Arquivos CSV"
   ]
  },
  {
   "cell_type": "markdown",
   "metadata": {},
   "source": [
    "- cards_data.csv"
   ]
  },
  {
   "cell_type": "code",
   "execution_count": 4,
   "metadata": {},
   "outputs": [
    {
     "name": "stdout",
     "output_type": "stream",
     "text": [
      "root\n",
      " |-- id: integer (nullable = true)\n",
      " |-- client_id: integer (nullable = true)\n",
      " |-- card_brand: string (nullable = true)\n",
      " |-- card_type: string (nullable = true)\n",
      " |-- card_number: long (nullable = true)\n",
      " |-- expires: string (nullable = true)\n",
      " |-- cvv: integer (nullable = true)\n",
      " |-- has_chip: string (nullable = true)\n",
      " |-- num_cards_issued: integer (nullable = true)\n",
      " |-- credit_limit: string (nullable = true)\n",
      " |-- acct_open_date: string (nullable = true)\n",
      " |-- year_pin_last_changed: integer (nullable = true)\n",
      " |-- card_on_dark_web: string (nullable = true)\n",
      "\n"
     ]
    }
   ],
   "source": [
    "# Dados de cartão de crédito\n",
    "df_cards = spark.read.csv(caminho + 'cards_data.csv', header=True, inferSchema=True)\n",
    "\n",
    "# Exibir o esquema do dataframe\n",
    "df_cards.printSchema()"
   ]
  },
  {
   "cell_type": "markdown",
   "metadata": {},
   "source": [
    "- transactions_data.csv"
   ]
  },
  {
   "cell_type": "code",
   "execution_count": 5,
   "metadata": {},
   "outputs": [
    {
     "name": "stdout",
     "output_type": "stream",
     "text": [
      "root\n",
      " |-- id: integer (nullable = true)\n",
      " |-- date: timestamp (nullable = true)\n",
      " |-- client_id: integer (nullable = true)\n",
      " |-- card_id: integer (nullable = true)\n",
      " |-- amount: string (nullable = true)\n",
      " |-- use_chip: string (nullable = true)\n",
      " |-- merchant_id: integer (nullable = true)\n",
      " |-- merchant_city: string (nullable = true)\n",
      " |-- merchant_state: string (nullable = true)\n",
      " |-- zip: double (nullable = true)\n",
      " |-- mcc: integer (nullable = true)\n",
      " |-- errors: string (nullable = true)\n",
      "\n"
     ]
    }
   ],
   "source": [
    "# Dados de transações\n",
    "df_transactions = spark.read.csv(caminho + 'transactions_data.csv', header=True, inferSchema=True)\n",
    "\n",
    "# Exibir o esquema do dataframe\n",
    "df_transactions.printSchema()"
   ]
  },
  {
   "cell_type": "markdown",
   "metadata": {},
   "source": [
    "- users_data.csv"
   ]
  },
  {
   "cell_type": "code",
   "execution_count": 6,
   "metadata": {},
   "outputs": [
    {
     "name": "stdout",
     "output_type": "stream",
     "text": [
      "root\n",
      " |-- id: integer (nullable = true)\n",
      " |-- current_age: integer (nullable = true)\n",
      " |-- retirement_age: integer (nullable = true)\n",
      " |-- birth_year: integer (nullable = true)\n",
      " |-- birth_month: integer (nullable = true)\n",
      " |-- gender: string (nullable = true)\n",
      " |-- address: string (nullable = true)\n",
      " |-- latitude: double (nullable = true)\n",
      " |-- longitude: double (nullable = true)\n",
      " |-- per_capita_income: string (nullable = true)\n",
      " |-- yearly_income: string (nullable = true)\n",
      " |-- total_debt: string (nullable = true)\n",
      " |-- credit_score: integer (nullable = true)\n",
      " |-- num_credit_cards: integer (nullable = true)\n",
      "\n"
     ]
    }
   ],
   "source": [
    "# Dados de clientes\n",
    "df_clients = spark.read.csv(caminho + 'users_data.csv', header=True, inferSchema=True)\n",
    "\n",
    "# Exibir o esquema do dataframe\n",
    "df_clients.printSchema()"
   ]
  },
  {
   "cell_type": "markdown",
   "metadata": {},
   "source": [
    "### 3.2. Arquivos JSON"
   ]
  },
  {
   "cell_type": "code",
   "execution_count": 7,
   "metadata": {},
   "outputs": [],
   "source": [
    "def process_json_to_csv(json_path, csv_path, list_columns, one_column=None):\n",
    "    '''\n",
    "    Processa um arquivo JSON e converte em CSV.\n",
    "\n",
    "    :param json_path: path + filename.json\n",
    "        Caminho do arquivo JSON de entrada.\n",
    "    :param csv_path: path + filename.csv\n",
    "        Caminho do arquivo CSV de saída.\n",
    "    :param list_columns: list\n",
    "        Lista com os nomes das colunas do CSV.\n",
    "    :param one_column: string (default=None)\n",
    "        Nome da chave no JSON para acessar dados aninhados (opcional).\n",
    "    '''\n",
    "    # Carregar o arquivo JSON\n",
    "    with open(json_path, 'r', encoding='utf-8') as json_file:\n",
    "        data = json.load(json_file)\n",
    "        \n",
    "    if not data:\n",
    "        print('Arquivo JSON está vazio.')\n",
    "        return\n",
    "    \n",
    "    # Processar dados aninhados, se necessário\n",
    "    if one_column:\n",
    "        data = data.get(one_column, {})\n",
    "        if not data:\n",
    "            print(f'A chave \\'{one_column}\\' não foi encontrada ou está vazia no JSON.')\n",
    "            return\n",
    "        print(f'Dados extraídos da chave \\'{one_column}\\'.')\n",
    "    else:\n",
    "        print('Processando JSON sem dados aninhados.')\n",
    "\n",
    "    # Escrever o CSV\n",
    "    with open(csv_path, 'w', encoding='utf-8', newline='') as csv_file:\n",
    "        writer = csv.writer(csv_file)\n",
    "        writer.writerow(list_columns)  # Escrevendo o cabeçalho\n",
    "        \n",
    "        for key, value in data.items():\n",
    "            writer.writerow([key, value])  # Escrevendo as linhas\n",
    "    \n",
    "    print(f'Arquivo CSV gerado com sucesso em {csv_path}.')"
   ]
  },
  {
   "cell_type": "markdown",
   "metadata": {},
   "source": [
    "- mcc_codes.json"
   ]
  },
  {
   "cell_type": "code",
   "execution_count": 8,
   "metadata": {},
   "outputs": [
    {
     "name": "stdout",
     "output_type": "stream",
     "text": [
      "Processando JSON sem dados aninhados.\n",
      "Arquivo CSV gerado com sucesso em dados/mcc_codes.csv.\n"
     ]
    }
   ],
   "source": [
    "# Processar mcc_codes.json\n",
    "json_path = caminho + 'mcc_codes.json'\n",
    "csv_path = caminho + 'mcc_codes.csv'\n",
    "list_columns = ['code', 'description']\n",
    "process_json_to_csv(json_path, csv_path, list_columns)"
   ]
  },
  {
   "cell_type": "code",
   "execution_count": 9,
   "metadata": {},
   "outputs": [
    {
     "name": "stdout",
     "output_type": "stream",
     "text": [
      "root\n",
      " |-- code: integer (nullable = true)\n",
      " |-- description: string (nullable = true)\n",
      "\n"
     ]
    }
   ],
   "source": [
    "# Dados de códigos de categoria de mercadorias\n",
    "df_mcc = spark.read.csv(caminho + 'mcc_codes.csv', header=True, inferSchema=True)\n",
    "\n",
    "# Exibir o esquema do dataframe\n",
    "df_mcc.printSchema()"
   ]
  },
  {
   "cell_type": "markdown",
   "metadata": {},
   "source": [
    "- train_fraud_labels.json"
   ]
  },
  {
   "cell_type": "code",
   "execution_count": 10,
   "metadata": {},
   "outputs": [
    {
     "name": "stdout",
     "output_type": "stream",
     "text": [
      "Dados extraídos da chave 'target'.\n",
      "Arquivo CSV gerado com sucesso em dados/train_fraud_labels.csv.\n"
     ]
    }
   ],
   "source": [
    "# Processar train_fraud_labels.json\n",
    "json_path = caminho + 'train_fraud_labels.json'\n",
    "csv_path = caminho + 'train_fraud_labels.csv'\n",
    "list_columns = ['transaction_id', 'is_fraud']\n",
    "one_column = 'target'\n",
    "process_json_to_csv(json_path, csv_path, list_columns, one_column)"
   ]
  },
  {
   "cell_type": "code",
   "execution_count": 11,
   "metadata": {},
   "outputs": [
    {
     "name": "stdout",
     "output_type": "stream",
     "text": [
      "root\n",
      " |-- transaction_id: integer (nullable = true)\n",
      " |-- is_fraud: string (nullable = true)\n",
      "\n"
     ]
    }
   ],
   "source": [
    "# Dados de rótulos de fraude\n",
    "df_train_fraud = spark.read.csv(caminho + 'train_fraud_labels.csv', header=True, inferSchema=True)\n",
    "\n",
    "# Exibir o esquema do dataframe\n",
    "df_train_fraud.printSchema()"
   ]
  },
  {
   "cell_type": "markdown",
   "metadata": {},
   "source": [
    "## 4. Análise dos dados"
   ]
  },
  {
   "cell_type": "markdown",
   "metadata": {},
   "source": [
    "- Volumetria dos dataframes"
   ]
  },
  {
   "cell_type": "code",
   "execution_count": 12,
   "metadata": {},
   "outputs": [],
   "source": [
    "def dataframe_volumetry(df, df_name):\n",
    "    '''\n",
    "    Exibe a quantidade de linhas e colunas de um dataframe.\n",
    "    \n",
    "    :param df: DataFrame\n",
    "        O dataframe a ser analisado.\n",
    "    :param df_name: string\n",
    "        Nome do dataframe a ser analisado.\n",
    "    '''\n",
    "    print(f'Volumetria do \\033[3m{df_name}\\033[0m')\n",
    "    print(f'Linhas: {df.count()}')\n",
    "    print(f'Colunas: {len(df.columns)}\\n')"
   ]
  },
  {
   "cell_type": "code",
   "execution_count": 13,
   "metadata": {},
   "outputs": [
    {
     "name": "stdout",
     "output_type": "stream",
     "text": [
      "Volumetria do \u001b[3mdf_cards\u001b[0m\n",
      "Linhas: 6146\n",
      "Colunas: 13\n",
      "\n",
      "Volumetria do \u001b[3mdf_transactions\u001b[0m\n",
      "Linhas: 13305915\n",
      "Colunas: 12\n",
      "\n",
      "Volumetria do \u001b[3mdf_clients\u001b[0m\n",
      "Linhas: 2000\n",
      "Colunas: 14\n",
      "\n",
      "Volumetria do \u001b[3mdf_mcc\u001b[0m\n",
      "Linhas: 109\n",
      "Colunas: 2\n",
      "\n",
      "Volumetria do \u001b[3mdf_train_fraud\u001b[0m\n",
      "Linhas: 8914963\n",
      "Colunas: 2\n",
      "\n"
     ]
    }
   ],
   "source": [
    "dataframe_volumetry(df_cards, 'df_cards')\n",
    "dataframe_volumetry(df_transactions, 'df_transactions')\n",
    "dataframe_volumetry(df_clients, 'df_clients')\n",
    "dataframe_volumetry(df_mcc, 'df_mcc')\n",
    "dataframe_volumetry(df_train_fraud, 'df_train_fraud')"
   ]
  },
  {
   "cell_type": "markdown",
   "metadata": {},
   "source": [
    "- Criação de Views temporárias para cada dataframe"
   ]
  },
  {
   "cell_type": "code",
   "execution_count": 14,
   "metadata": {},
   "outputs": [],
   "source": [
    "df_cards.createOrReplaceTempView('tb_cards')\n",
    "df_clients.createOrReplaceTempView('tb_clients')\n",
    "df_mcc.createOrReplaceTempView('tb_mcc')\n",
    "df_train_fraud.createOrReplaceTempView('tb_train_fraud')\n",
    "df_transactions.createOrReplaceTempView('tb_transactions')"
   ]
  },
  {
   "cell_type": "markdown",
   "metadata": {},
   "source": [
    "- Visualizando os dados da tb_cards"
   ]
  },
  {
   "cell_type": "code",
   "execution_count": 15,
   "metadata": {},
   "outputs": [
    {
     "name": "stdout",
     "output_type": "stream",
     "text": [
      "+----+---------+----------+---------------+----------------+-------+---+--------+----------------+------------+--------------+---------------------+----------------+\n",
      "|id  |client_id|card_brand|card_type      |card_number     |expires|cvv|has_chip|num_cards_issued|credit_limit|acct_open_date|year_pin_last_changed|card_on_dark_web|\n",
      "+----+---------+----------+---------------+----------------+-------+---+--------+----------------+------------+--------------+---------------------+----------------+\n",
      "|4524|825      |Visa      |Debit          |4344676511950444|12/2022|623|YES     |2               |$24295      |09/2002       |2008                 |No              |\n",
      "|2731|825      |Visa      |Debit          |4956965974959986|12/2020|393|YES     |2               |$21968      |04/2014       |2014                 |No              |\n",
      "|3701|825      |Visa      |Debit          |4582313478255491|02/2024|719|YES     |2               |$46414      |07/2003       |2004                 |No              |\n",
      "|42  |825      |Visa      |Credit         |4879494103069057|08/2024|693|NO      |1               |$12400      |01/2003       |2012                 |No              |\n",
      "|4659|825      |Mastercard|Debit (Prepaid)|5722874738736011|03/2009|75 |YES     |1               |$28         |09/2008       |2009                 |No              |\n",
      "|4537|1746     |Visa      |Credit         |4404898874682993|09/2003|736|YES     |1               |$27500      |09/2003       |2012                 |No              |\n",
      "|1278|1746     |Visa      |Debit          |4001482973848631|07/2022|972|YES     |2               |$28508      |02/2011       |2011                 |No              |\n",
      "|3687|1746     |Mastercard|Debit          |5627220683410948|06/2022|48 |YES     |2               |$9022       |07/2003       |2015                 |No              |\n",
      "|3465|1746     |Mastercard|Debit (Prepaid)|5711382187309326|11/2020|722|YES     |2               |$54         |06/2010       |2015                 |No              |\n",
      "|3754|1746     |Mastercard|Debit (Prepaid)|5766121508358701|02/2023|908|YES     |1               |$99         |07/2006       |2012                 |No              |\n",
      "+----+---------+----------+---------------+----------------+-------+---+--------+----------------+------------+--------------+---------------------+----------------+\n",
      "only showing top 10 rows\n",
      "\n"
     ]
    }
   ],
   "source": [
    "df_cards.show(10, truncate=False)"
   ]
  },
  {
   "cell_type": "markdown",
   "metadata": {},
   "source": [
    "- Visualizando os dados da tb_clients"
   ]
  },
  {
   "cell_type": "code",
   "execution_count": 16,
   "metadata": {},
   "outputs": [
    {
     "name": "stdout",
     "output_type": "stream",
     "text": [
      "+----+-----------+--------------+----------+-----------+------+------------------------+--------+---------+-----------------+-------------+----------+------------+----------------+\n",
      "|id  |current_age|retirement_age|birth_year|birth_month|gender|address                 |latitude|longitude|per_capita_income|yearly_income|total_debt|credit_score|num_credit_cards|\n",
      "+----+-----------+--------------+----------+-----------+------+------------------------+--------+---------+-----------------+-------------+----------+------------+----------------+\n",
      "|825 |53         |66            |1966      |11         |Female|462 Rose Lane           |34.15   |-117.76  |$29278           |$59696       |$127613   |787         |5               |\n",
      "|1746|53         |68            |1966      |12         |Female|3606 Federal Boulevard  |40.76   |-73.74   |$37891           |$77254       |$191349   |701         |5               |\n",
      "|1718|81         |67            |1938      |11         |Female|766 Third Drive         |34.02   |-117.89  |$22681           |$33483       |$196      |698         |5               |\n",
      "|708 |63         |63            |1957      |1          |Female|3 Madison Street        |40.71   |-73.99   |$163145          |$249925      |$202328   |722         |4               |\n",
      "|1164|43         |70            |1976      |9          |Male  |9620 Valley Stream Drive|37.76   |-122.44  |$53797           |$109687      |$183855   |675         |1               |\n",
      "|68  |42         |70            |1977      |10         |Male  |58 Birch Lane           |41.55   |-90.6    |$20599           |$41997       |$0        |704         |3               |\n",
      "|1075|36         |67            |1983      |12         |Female|5695 Fifth Street       |38.22   |-85.74   |$25258           |$51500       |$102286   |672         |3               |\n",
      "|1711|26         |67            |1993      |12         |Male  |1941 Ninth Street       |45.51   |-122.64  |$26790           |$54623       |$114711   |728         |1               |\n",
      "|1116|81         |66            |1938      |7          |Female|11 Spruce Avenue        |40.32   |-75.32   |$26273           |$42509       |$2895     |755         |5               |\n",
      "|1752|34         |60            |1986      |1          |Female|887 Grant Street        |29.97   |-92.12   |$18730           |$38190       |$81262    |810         |1               |\n",
      "+----+-----------+--------------+----------+-----------+------+------------------------+--------+---------+-----------------+-------------+----------+------------+----------------+\n",
      "only showing top 10 rows\n",
      "\n"
     ]
    }
   ],
   "source": [
    "df_clients.show(10, truncate=False)"
   ]
  },
  {
   "cell_type": "markdown",
   "metadata": {},
   "source": [
    "- Visualizando os dados da tb_mcc"
   ]
  },
  {
   "cell_type": "code",
   "execution_count": 17,
   "metadata": {},
   "outputs": [
    {
     "name": "stdout",
     "output_type": "stream",
     "text": [
      "+----+------------------------------------------+\n",
      "|code|description                               |\n",
      "+----+------------------------------------------+\n",
      "|5812|Eating Places and Restaurants             |\n",
      "|5541|Service Stations                          |\n",
      "|7996|Amusement Parks, Carnivals, Circuses      |\n",
      "|5411|Grocery Stores, Supermarkets              |\n",
      "|4784|Tolls and Bridge Fees                     |\n",
      "|4900|Utilities - Electric, Gas, Water, Sanitary|\n",
      "|5942|Book Stores                               |\n",
      "|5814|Fast Food Restaurants                     |\n",
      "|4829|Money Transfer                            |\n",
      "|5311|Department Stores                         |\n",
      "+----+------------------------------------------+\n",
      "only showing top 10 rows\n",
      "\n"
     ]
    }
   ],
   "source": [
    "df_mcc.show(10, truncate=False)"
   ]
  },
  {
   "cell_type": "markdown",
   "metadata": {},
   "source": [
    "- Visualizando os dados da tb_train_fraud"
   ]
  },
  {
   "cell_type": "code",
   "execution_count": 18,
   "metadata": {},
   "outputs": [
    {
     "name": "stdout",
     "output_type": "stream",
     "text": [
      "+--------------+--------+\n",
      "|transaction_id|is_fraud|\n",
      "+--------------+--------+\n",
      "|10649266      |No      |\n",
      "|23410063      |No      |\n",
      "|9316588       |No      |\n",
      "|12478022      |No      |\n",
      "|9558530       |No      |\n",
      "|12532830      |No      |\n",
      "|19526714      |No      |\n",
      "|9906964       |No      |\n",
      "|13224888      |No      |\n",
      "|13749094      |No      |\n",
      "+--------------+--------+\n",
      "only showing top 10 rows\n",
      "\n"
     ]
    }
   ],
   "source": [
    "df_train_fraud.show(10, truncate=False)"
   ]
  },
  {
   "cell_type": "markdown",
   "metadata": {},
   "source": [
    "- Visualizando os dados da tb_transactions"
   ]
  },
  {
   "cell_type": "code",
   "execution_count": 19,
   "metadata": {},
   "outputs": [
    {
     "name": "stdout",
     "output_type": "stream",
     "text": [
      "+-------+-------------------+---------+-------+-------+------------------+-----------+-------------+--------------+-------+----+------+\n",
      "|id     |date               |client_id|card_id|amount |use_chip          |merchant_id|merchant_city|merchant_state|zip    |mcc |errors|\n",
      "+-------+-------------------+---------+-------+-------+------------------+-----------+-------------+--------------+-------+----+------+\n",
      "|7475327|2010-01-01 00:01:00|1556     |2972   |$-77.00|Swipe Transaction |59935      |Beulah       |ND            |58523.0|5499|NULL  |\n",
      "|7475328|2010-01-01 00:02:00|561      |4575   |$14.57 |Swipe Transaction |67570      |Bettendorf   |IA            |52722.0|5311|NULL  |\n",
      "|7475329|2010-01-01 00:02:00|1129     |102    |$80.00 |Swipe Transaction |27092      |Vista        |CA            |92084.0|4829|NULL  |\n",
      "|7475331|2010-01-01 00:05:00|430      |2860   |$200.00|Swipe Transaction |27092      |Crown Point  |IN            |46307.0|4829|NULL  |\n",
      "|7475332|2010-01-01 00:06:00|848      |3915   |$46.41 |Swipe Transaction |13051      |Harwood      |MD            |20776.0|5813|NULL  |\n",
      "|7475333|2010-01-01 00:07:00|1807     |165    |$4.81  |Swipe Transaction |20519      |Bronx        |NY            |10464.0|5942|NULL  |\n",
      "|7475334|2010-01-01 00:09:00|1556     |2972   |$77.00 |Swipe Transaction |59935      |Beulah       |ND            |58523.0|5499|NULL  |\n",
      "|7475335|2010-01-01 00:14:00|1684     |2140   |$26.46 |Online Transaction|39021      |ONLINE       |NULL          |NULL   |4784|NULL  |\n",
      "|7475336|2010-01-01 00:21:00|335      |5131   |$261.58|Online Transaction|50292      |ONLINE       |NULL          |NULL   |7801|NULL  |\n",
      "|7475337|2010-01-01 00:21:00|351      |1112   |$10.74 |Swipe Transaction |3864       |Flushing     |NY            |11355.0|5813|NULL  |\n",
      "+-------+-------------------+---------+-------+-------+------------------+-----------+-------------+--------------+-------+----+------+\n",
      "only showing top 10 rows\n",
      "\n"
     ]
    }
   ],
   "source": [
    "df_transactions.show(10, truncate=False)"
   ]
  },
  {
   "cell_type": "markdown",
   "metadata": {},
   "source": [
    "## 5. Construção da ABT"
   ]
  },
  {
   "cell_type": "markdown",
   "metadata": {},
   "source": [
    "- Alterando o nome das colunas de identificação dos dataframes"
   ]
  },
  {
   "cell_type": "code",
   "execution_count": 20,
   "metadata": {},
   "outputs": [],
   "source": [
    "df_cards = df_cards.withColumnRenamed('id', 'id_card')\n",
    "df_cards = df_cards.withColumnRenamed('client_id', 'client_id_card')\n",
    "df_clients = df_clients.withColumnRenamed('id', 'id_client')"
   ]
  },
  {
   "cell_type": "markdown",
   "metadata": {},
   "source": [
    "- Executando o _join_ entre os dataframes"
   ]
  },
  {
   "cell_type": "code",
   "execution_count": 21,
   "metadata": {},
   "outputs": [],
   "source": [
    "abt_01 = df_transactions \\\n",
    "    .join(df_cards, df_transactions['card_id'] == df_cards['id_card'], how='inner') \\\n",
    "    .join(df_clients, df_transactions['client_id'] == df_clients['id_client'], how='inner') \\\n",
    "    .join(df_mcc, df_transactions['mcc'] == df_mcc['code'], how='inner') \\\n",
    "    .join(df_train_fraud, df_transactions['id'] == df_train_fraud['transaction_id'], how='left')      "
   ]
  },
  {
   "cell_type": "code",
   "execution_count": 22,
   "metadata": {},
   "outputs": [
    {
     "name": "stdout",
     "output_type": "stream",
     "text": [
      "+--------+-------------------+---------+-------+-------+------------------+-----------+----------------+--------------+-------+----+-------+-------+--------------+----------+---------+----------------+-------+---+--------+----------------+------------+--------------+---------------------+----------------+---------+-----------+--------------+----------+-----------+------+--------------------------------+--------+---------+-----------------+-------------+----------+------------+----------------+----+----------------------------------+--------------+--------+\n",
      "|id      |date               |client_id|card_id|amount |use_chip          |merchant_id|merchant_city   |merchant_state|zip    |mcc |errors |id_card|client_id_card|card_brand|card_type|card_number     |expires|cvv|has_chip|num_cards_issued|credit_limit|acct_open_date|year_pin_last_changed|card_on_dark_web|id_client|current_age|retirement_age|birth_year|birth_month|gender|address                         |latitude|longitude|per_capita_income|yearly_income|total_debt|credit_score|num_credit_cards|code|description                       |transaction_id|is_fraud|\n",
      "+--------+-------------------+---------+-------+-------+------------------+-----------+----------------+--------------+-------+----+-------+-------+--------------+----------+---------+----------------+-------+---+--------+----------------+------------+--------------+---------------------+----------------+---------+-----------+--------------+----------+-----------+------+--------------------------------+--------+---------+-----------------+-------------+----------+------------+----------------+----+----------------------------------+--------------+--------+\n",
      "|7475336 |2010-01-01 00:21:00|335      |5131   |$261.58|Online Transaction|50292      |ONLINE          |NULL          |NULL   |7801|NULL   |5131   |335           |Visa      |Debit    |4414800408438414|06/2020|833|YES     |1               |$23401      |10/2008       |2011                 |No              |335      |46         |68            |1973      |7          |Female|75 Birch Lane                   |26.74   |-80.12   |$27696           |$56467       |$66565    |688         |3               |7801|Athletic Fields, Commercial Sports|NULL          |NULL    |\n",
      "|7475338 |2010-01-01 00:23:00|554      |3912   |$3.51  |Swipe Transaction |67570      |Pearland        |TX            |77581.0|5311|NULL   |3912   |554           |Visa      |Debit    |4096589319918041|04/2021|856|NO      |1               |$25658      |07/2009       |2009                 |No              |554      |59         |67            |1960      |8          |Male  |6310 Sixth Street               |29.66   |-95.04   |$26170           |$53357       |$114266   |690         |5               |5311|Department Stores                 |7475338       |No      |\n",
      "|7475341 |2010-01-01 00:27:00|1797     |1127   |$43.33 |Swipe Transaction |33326      |Kahului         |HI            |96732.0|4121|NULL   |1127   |1797          |Visa      |Debit    |4777281869545650|02/2017|256|YES     |2               |$23237      |02/2007       |2009                 |No              |1797     |67         |65            |1952      |11         |Male  |391 Martin Luther King Boulevard|37.71   |-122.16  |$24971           |$30962       |$15336    |743         |5               |4121|Taxicabs and Limousines           |7475341       |No      |\n",
      "|9190163 |2011-02-22 21:42:00|1482     |1254   |$127.86|Swipe Transaction |2932       |Alpharetta      |GA            |30005.0|7922|NULL   |1254   |1482          |Visa      |Debit    |4474303260979464|10/2021|877|YES     |2               |$34877      |02/2010       |2012                 |No              |1482     |54         |64            |1965      |8          |Male  |52 Sixth Boulevard              |34.06   |-84.27   |$43725           |$89152       |$162012   |675         |1               |7922|Theatrical Producers              |9190163       |No      |\n",
      "|9190168 |2011-02-22 21:47:00|1340     |2954   |$147.12|Swipe Transaction |61195      |Houston         |TX            |77064.0|5541|NULL   |2954   |1340          |Amex      |Credit   |329808568475348 |06/2021|259|NO      |1               |$13300      |05/2008       |2013                 |No              |1340     |53         |68            |1966      |8          |Male  |815 Hillside Drive              |29.76   |-95.38   |$26420           |$53872       |$64269    |691         |5               |5541|Service Stations                  |9190168       |No      |\n",
      "|9190178 |2011-02-22 21:54:00|1969     |4231   |$58.70 |Online Transaction|88459      |ONLINE          |NULL          |NULL   |5311|NULL   |4231   |1969          |Visa      |Debit    |4575344947327711|12/2016|350|NO      |2               |$28759      |08/2007       |2014                 |No              |1969     |84         |65            |1935      |4          |Male  |402 El Camino Drive             |27.48   |-82.57   |$29583           |$44690       |$2249     |733         |5               |5311|Department Stores                 |9190178       |No      |\n",
      "|10916272|2012-03-28 11:13:00|380      |5838   |$12.43 |Swipe Transaction |75781      |Des Moines      |IA            |50317.0|5411|NULL   |5838   |380           |Mastercard|Credit   |5764817007089895|07/2023|815|YES     |2               |$10800      |12/2005       |2010                 |No              |380      |46         |70            |1974      |1          |Male  |3551 Spruce Boulevard           |41.57   |-93.61   |$18568           |$37857       |$57727    |800         |2               |5411|Grocery Stores, Supermarkets      |NULL          |NULL    |\n",
      "|12635225|2013-04-19 18:12:00|1451     |3226   |$52.04 |Swipe Transaction |59935      |Revere          |MA            |2151.0 |5499|NULL   |3226   |1451          |Mastercard|Debit    |5004479479624202|06/2024|206|YES     |1               |$34319      |06/2001       |2013                 |No              |1451     |58         |57            |1961      |4          |Female|9384 Lake Street                |42.41   |-70.99   |$20979           |$17078       |$25245    |719         |4               |5499|Miscellaneous Food Stores         |12635225      |No      |\n",
      "|12635227|2013-04-19 18:13:00|197      |1302   |$45.15 |Swipe Transaction |26426      |Wilmore         |KY            |40390.0|5812|Bad PIN|1302   |197           |Mastercard|Debit    |5237861402927606|01/2022|536|YES     |1               |$17889      |02/2012       |2012                 |No              |197      |32         |60            |1987      |5          |Male  |1867 Bayview Street             |37.86   |-84.65   |$15757           |$32128       |$58373    |724         |5               |5812|Eating Places and Restaurants     |12635227      |No      |\n",
      "|12635235|2013-04-19 18:14:00|655      |4134   |$20.00 |Swipe Transaction |27092      |Madison         |OH            |44057.0|4829|NULL   |4134   |655           |Mastercard|Debit    |5775179305795307|12/2022|857|YES     |2               |$11638      |08/2004       |2011                 |No              |655      |49         |66            |1970      |3          |Female|211 Lexington Drive             |41.44   |-82.18   |$14880           |$30340       |$64661    |552         |3               |4829|Money Transfer                    |12635235      |No      |\n",
      "|14358048|2014-05-03 11:57:00|848      |3915   |$19.07 |Swipe Transaction |31250      |Harwood         |MD            |20776.0|7210|NULL   |3915   |848           |Visa      |Debit    |4354185735186651|01/2020|120|YES     |1               |$19113      |07/2009       |2014                 |No              |848      |51         |69            |1968      |5          |Male  |166 River Drive                 |38.86   |-76.6    |$33529           |$68362       |$96182    |711         |2               |7210|Laundry Services                  |14358048      |No      |\n",
      "|14358065|2014-05-03 12:02:00|605      |212    |$1.87  |Swipe Transaction |74005      |Brooklyn        |NY            |11210.0|5812|NULL   |212    |605           |Visa      |Credit   |4542762527059522|12/2022|70 |YES     |1               |$13500      |01/2009       |2009                 |No              |605      |42         |73            |1977      |10         |Male  |663 Summit Boulevard            |40.64   |-73.94   |$23316           |$47542       |$2667     |725         |3               |5812|Eating Places and Restaurants     |14358065      |No      |\n",
      "|14358070|2014-05-03 12:03:00|1241     |3501   |$98.06 |Swipe Transaction |86410      |Saint Henry     |OH            |45883.0|5211|NULL   |3501   |1241          |Visa      |Debit    |4617983811742101|03/2023|469|YES     |2               |$9335       |06/2010       |2010                 |No              |1241     |40         |69            |1979      |3          |Female|159 Plum Avenue                 |40.43   |-84.38   |$24227           |$49396       |$39549    |814         |3               |5211|Lumber and Building Materials     |14358070      |No      |\n",
      "|16093582|2015-05-15 13:18:00|1638     |4296   |$14.98 |Online Transaction|16798      |ONLINE          |NULL          |NULL   |4121|NULL   |4296   |1638          |Mastercard|Debit    |5445308987864903|10/2021|190|YES     |1               |$18281      |08/2009       |2009                 |No              |1638     |79         |64            |1940      |8          |Female|6337 Spruce Street              |44.67   |-93.24   |$34186           |$57824       |$31354    |668         |5               |4121|Taxicabs and Limousines           |16093582      |No      |\n",
      "|16093586|2015-05-15 13:19:00|571      |5960   |$57.32 |Chip Transaction  |32175      |Martinsburg     |WV            |25404.0|7538|NULL   |5960   |571           |Mastercard|Debit    |5060522440059037|02/2017|556|YES     |1               |$12247      |12/2009       |2009                 |No              |571      |42         |68            |1977      |11         |Male  |8580 Valley Stream Avenue       |39.46   |-77.96   |$18003           |$36711       |$84949    |739         |4               |7538|Automotive Service Shops          |16093586      |No      |\n",
      "|16093589|2015-05-15 13:19:00|1963     |3317   |$26.81 |Swipe Transaction |88852      |Vacaville       |CA            |95687.0|4121|NULL   |3317   |1963          |Mastercard|Debit    |5735308019363324|02/2024|502|YES     |1               |$25297      |06/2006       |2006                 |No              |1963     |98         |69            |1921      |11         |Male  |468 Spruce Street               |38.35   |-121.93  |$26137           |$33869       |$370      |821         |7               |4121|Taxicabs and Limousines           |NULL          |NULL    |\n",
      "|16093595|2015-05-15 13:21:00|1107     |8      |$135.21|Swipe Transaction |16041      |South Ozone Park|NY            |11420.0|7802|NULL   |8      |1107          |Mastercard|Credit   |5462760953855576|09/2021|665|NO      |2               |$10300      |01/1998       |2006                 |No              |1107     |71         |69            |1949      |1          |Female|836 Summit Boulevard            |42.23   |-76.34   |$18323           |$40516       |$6908     |698         |5               |7802|Recreational Sports, Clubs        |16093595      |No      |\n",
      "|16093599|2015-05-15 13:22:00|419      |3587   |$24.86 |Chip Transaction  |99483      |Murphys         |CA            |95247.0|5912|NULL   |3587   |419           |Visa      |Debit    |4298987544338030|03/2020|757|YES     |1               |$16731      |06/2014       |2014                 |No              |419      |60         |66            |1959      |11         |Male  |933 Valley Lane                 |38.14   |-120.45  |$16448           |$33540       |$74530    |734         |5               |5912|Drug Stores and Pharmacies        |16093599      |No      |\n",
      "|17838219|2016-05-23 13:02:00|185      |2711   |$67.48 |Online Transaction|73186      |ONLINE          |NULL          |NULL   |4814|NULL   |2711   |185           |Visa      |Credit   |4718517475996018|01/2021|492|YES     |2               |$5700       |04/2012       |2012                 |No              |185      |47         |67            |1973      |1          |Female|276 Fifth Boulevard             |40.66   |-74.19   |$15175           |$30942       |$71066    |779         |3               |4814|Telecommunication Services        |17838219      |No      |\n",
      "|17838233|2016-05-23 13:04:00|1648     |5282   |$-85.00|Chip Transaction  |43293      |Morris Plains   |NJ            |7950.0 |5499|NULL   |5282   |1648          |Visa      |Credit   |4699987716360968|06/2022|973|YES     |1               |$36700      |10/2013       |2013                 |No              |1648     |66         |69            |1953      |5          |Female|211 Valley Street               |40.76   |-74.59   |$91180           |$185909      |$461854   |621         |5               |5499|Miscellaneous Food Stores         |17838233      |No      |\n",
      "+--------+-------------------+---------+-------+-------+------------------+-----------+----------------+--------------+-------+----+-------+-------+--------------+----------+---------+----------------+-------+---+--------+----------------+------------+--------------+---------------------+----------------+---------+-----------+--------------+----------+-----------+------+--------------------------------+--------+---------+-----------------+-------------+----------+------------+----------------+----+----------------------------------+--------------+--------+\n",
      "only showing top 20 rows\n",
      "\n"
     ]
    }
   ],
   "source": [
    "abt_01.show(20, truncate=False)"
   ]
  },
  {
   "cell_type": "markdown",
   "metadata": {},
   "source": [
    "- Criação de View temporária para abt"
   ]
  },
  {
   "cell_type": "code",
   "execution_count": 23,
   "metadata": {},
   "outputs": [],
   "source": [
    "abt_01.createOrReplaceTempView('tb_abt_01')"
   ]
  },
  {
   "cell_type": "markdown",
   "metadata": {},
   "source": [
    "### 5.1. Análise de dados da ABT"
   ]
  },
  {
   "cell_type": "markdown",
   "metadata": {},
   "source": [
    "- Panorama geral dos dados"
   ]
  },
  {
   "cell_type": "code",
   "execution_count": 24,
   "metadata": {},
   "outputs": [
    {
     "name": "stdout",
     "output_type": "stream",
     "text": [
      "+----+---------------+-------------+----------------+------------+-----------------+------------+-----------+\n",
      "|ANO |QTDE_TRANSACOES|QTDE_CLIENTES|TOTAL_TRANSACOES|QTDE_CARTOES|QTDE_COMERCIANTES|QTDE_FRAUDES|TAXA_FRAUDE|\n",
      "+----+---------------+-------------+----------------+------------+-----------------+------------+-----------+\n",
      "|2010|1240880        |1137         |54232556.12     |2896        |27901            |2573        |0.207      |\n",
      "|2011|1290770        |1167         |55778904.96     |3137        |28153            |37          |0.003      |\n",
      "|2012|1321672        |1177         |56832410.86     |3245        |28710            |923         |0.07       |\n",
      "|2013|1352808        |1190         |58284939.62     |3339        |29280            |1337        |0.099      |\n",
      "|2014|1365537        |1195         |58617820.51     |3418        |28987            |664         |0.049      |\n",
      "|2015|1388065        |1204         |59514007.43     |3473        |29616            |2189        |0.158      |\n",
      "|2016|1392117        |1210         |59844028.90     |3497        |29600            |2448        |0.176      |\n",
      "|2017|1399308        |1209         |59628480.63     |3492        |29781            |172         |0.012      |\n",
      "|2018|1394792        |1208         |59627317.94     |3488        |29435            |1629        |0.117      |\n",
      "|2019|1159966        |1206         |49475055.31     |3437        |27516            |1360        |0.117      |\n",
      "+----+---------------+-------------+----------------+------------+-----------------+------------+-----------+\n",
      "\n"
     ]
    }
   ],
   "source": [
    "query_01 = spark.sql('''\n",
    "    SELECT\n",
    "        YEAR(TO_DATE(date, 'yyyy-MM-dd')) AS ANO,\n",
    "        COUNT(id) AS QTDE_TRANSACOES,\n",
    "        COUNT(DISTINCT client_id) AS QTDE_CLIENTES,\n",
    "        SUM(CAST(REPLACE(amount, '$', '') AS DECIMAL(10,2))) AS TOTAL_TRANSACOES,\n",
    "        COUNT(DISTINCT card_id) AS QTDE_CARTOES,\n",
    "        COUNT(DISTINCT merchant_id) AS QTDE_COMERCIANTES,\n",
    "        COUNT(CASE WHEN is_fraud = 'Yes' THEN id END) AS QTDE_FRAUDES,\n",
    "        ROUND(100 * COUNT(CASE WHEN is_fraud = 'Yes' THEN id END) / COUNT(*), 3) AS TAXA_FRAUDE\n",
    "    FROM\n",
    "        tb_abt_01\n",
    "    GROUP BY\n",
    "        ANO\n",
    "    ORDER BY\n",
    "        ANO;\n",
    "''').show(20, truncate=False)"
   ]
  },
  {
   "cell_type": "markdown",
   "metadata": {},
   "source": [
    "- Análise das transações por cartão"
   ]
  },
  {
   "cell_type": "code",
   "execution_count": 25,
   "metadata": {},
   "outputs": [
    {
     "name": "stdout",
     "output_type": "stream",
     "text": [
      "+-----------+-------------------+---------------+------------+-----------+\n",
      "|CONTEM_CHIP|METODO_AUTENTICACAO|QTDE_TRANSACOES|QTDE_FRAUDES|TAXA_FRAUDE|\n",
      "+-----------+-------------------+---------------+------------+-----------+\n",
      "|YES        |Swipe Transaction  |5774805        |801         |0.014      |\n",
      "|YES        |Chip Transaction   |4780818        |3176        |0.066      |\n",
      "|YES        |Online Transaction |1419172        |8155        |0.575      |\n",
      "|NO         |Swipe Transaction  |1192380        |576         |0.048      |\n",
      "|NO         |Online Transaction |138740         |624         |0.45       |\n",
      "+-----------+-------------------+---------------+------------+-----------+\n",
      "\n"
     ]
    }
   ],
   "source": [
    "query_02 = spark.sql('''\n",
    "    SELECT \n",
    "        has_chip AS CONTEM_CHIP,\n",
    "        use_chip AS METODO_AUTENTICACAO, \n",
    "        COUNT(*) AS QTDE_TRANSACOES,\n",
    "        COUNT(CASE WHEN is_fraud = 'Yes' THEN id END) AS QTDE_FRAUDES,\n",
    "        ROUND(100 * COUNT(CASE WHEN is_fraud = 'Yes' THEN id END) / COUNT(*), 3) AS TAXA_FRAUDE\n",
    "    FROM \n",
    "        tb_abt_01\n",
    "    GROUP BY \n",
    "        has_chip, use_chip\n",
    "    ORDER BY \n",
    "        QTDE_TRANSACOES DESC;\n",
    "''').show(20, truncate=False)"
   ]
  },
  {
   "cell_type": "markdown",
   "metadata": {},
   "source": [
    "- Análise das transações e valores fraudulentos"
   ]
  },
  {
   "cell_type": "code",
   "execution_count": 26,
   "metadata": {},
   "outputs": [
    {
     "name": "stdout",
     "output_type": "stream",
     "text": [
      "+----+----------------+------------+-----------+---------------------+---------------------+--------------------+--------------------+\n",
      "|ANO |TOTAL_TRANSACOES|QTDE_FRAUDES|TAXA_FRAUDE|MEDIA_VALORES_FRAUDES|TOTAL_VALORES_FRAUDES|MAIOR_VALOR_FRAUDADO|MENOR_VALOR_FRAUDADO|\n",
      "+----+----------------+------------+-----------+---------------------+---------------------+--------------------+--------------------+\n",
      "|2010|1240880         |2573        |0.21       |141.412778           |345612.83            |4978.45             |0.00                |\n",
      "|2011|1290770         |37          |0.0        |170.364706           |5792.40              |540.30              |0.22                |\n",
      "|2012|1321672         |923         |0.07       |90.272121            |80432.46             |1073.75             |0.01                |\n",
      "|2013|1352808         |1337        |0.1        |135.406258           |172236.76            |2263.61             |0.01                |\n",
      "|2014|1365537         |664         |0.05       |129.520814           |82763.80             |2251.32             |0.02                |\n",
      "|2015|1388065         |2189        |0.16       |141.414868           |300365.18            |2930.44             |0.03                |\n",
      "|2016|1392117         |2448        |0.18       |145.727756           |343480.32            |2505.58             |0.03                |\n",
      "|2017|1399308         |172         |0.01       |90.885731            |15541.46             |1198.72             |0.06                |\n",
      "|2018|1394792         |1629        |0.12       |89.064544            |140721.98            |1343.48             |0.00                |\n",
      "|2019|1159966         |1360        |0.12       |92.014729            |122379.59            |1244.41             |0.00                |\n",
      "+----+----------------+------------+-----------+---------------------+---------------------+--------------------+--------------------+\n",
      "\n"
     ]
    }
   ],
   "source": [
    "query_03 = spark.sql('''\n",
    "    SELECT \n",
    "        YEAR(TO_DATE(date, 'yyyy-MM-dd')) AS ANO,\n",
    "        COUNT(*) AS TOTAL_TRANSACOES,\n",
    "        COUNT(CASE WHEN is_fraud = 'Yes' THEN id END) AS QTDE_FRAUDES,\n",
    "        ROUND(100 * COUNT(CASE WHEN is_fraud = 'Yes' THEN id END) / COUNT(*), 2) AS TAXA_FRAUDE,\n",
    "        AVG(CASE WHEN is_fraud = 'Yes' AND CAST(REPLACE(amount, '$', '') AS DECIMAL(10,2)) >= 0 \n",
    "                THEN CAST(REPLACE(amount, '$', '') AS DECIMAL(10,2)) \n",
    "            END) AS MEDIA_VALORES_FRAUDES,\n",
    "        SUM(CASE WHEN is_fraud = 'Yes' AND CAST(REPLACE(amount, '$', '') AS DECIMAL(10,2)) >= 0 \n",
    "                THEN CAST(REPLACE(amount, '$', '') AS DECIMAL(10,2)) \n",
    "            END) AS TOTAL_VALORES_FRAUDES,\n",
    "        MAX(CASE WHEN is_fraud = 'Yes' THEN CAST(REPLACE(amount, '$', '') AS DECIMAL(10,2)) \n",
    "            END) AS MAIOR_VALOR_FRAUDADO,\n",
    "        MIN(CASE WHEN is_fraud = 'Yes' AND CAST(REPLACE(amount, '$', '') AS DECIMAL(10,2)) >= 0 \n",
    "                THEN CAST(REPLACE(amount, '$', '') AS DECIMAL(10,2)) \n",
    "            END) AS MENOR_VALOR_FRAUDADO\n",
    "    FROM\n",
    "        tb_abt_01\n",
    "    GROUP BY\n",
    "        ANO\n",
    "    ORDER BY\n",
    "        ANO;\n",
    "''').show(20, truncate=False)"
   ]
  },
  {
   "cell_type": "markdown",
   "metadata": {},
   "source": [
    "- Análise da distribuição das transações por faixa etária"
   ]
  },
  {
   "cell_type": "code",
   "execution_count": 27,
   "metadata": {},
   "outputs": [
    {
     "name": "stdout",
     "output_type": "stream",
     "text": [
      "+------------+---------------+------------+-------+\n",
      "|FAIXA_ETARIA|QTDE_TRANSACOES|QTDE_FRAUDES|min_age|\n",
      "+------------+---------------+------------+-------+\n",
      "|21-30       |428671         |318         |23     |\n",
      "|31-40       |2377562        |2041        |31     |\n",
      "|41-50       |3396784        |3234        |41     |\n",
      "|51-60       |2943032        |2880        |51     |\n",
      "|61-70       |2105384        |2479        |61     |\n",
      "|71-80       |970658         |1136        |71     |\n",
      "|81-90       |864655         |1077        |81     |\n",
      "|90+         |219169         |167         |91     |\n",
      "+------------+---------------+------------+-------+\n",
      "\n"
     ]
    }
   ],
   "source": [
    "query_04 = spark.sql('''\n",
    "    SELECT\n",
    "        CASE\n",
    "            WHEN current_age BETWEEN 0 AND 10 THEN '0-10'\n",
    "            WHEN current_age BETWEEN 11 AND 20 THEN '11-20'\n",
    "            WHEN current_age BETWEEN 21 AND 30 THEN '21-30'\n",
    "            WHEN current_age BETWEEN 31 AND 40 THEN '31-40'\n",
    "            WHEN current_age BETWEEN 41 AND 50 THEN '41-50'\n",
    "            WHEN current_age BETWEEN 51 AND 60 THEN '51-60'\n",
    "            WHEN current_age BETWEEN 61 AND 70 THEN '61-70'\n",
    "            WHEN current_age BETWEEN 71 AND 80 THEN '71-80'\n",
    "            WHEN current_age BETWEEN 81 AND 90 THEN '81-90'\n",
    "            ELSE '90+'\n",
    "        END AS FAIXA_ETARIA,\n",
    "        COUNT(*) AS QTDE_TRANSACOES,\n",
    "        COUNT(CASE WHEN is_fraud = 'Yes' THEN id END) AS QTDE_FRAUDES,\n",
    "        MIN(current_age) AS min_age\n",
    "    FROM tb_abt_01\n",
    "    GROUP BY FAIXA_ETARIA\n",
    "    ORDER BY min_age;\n",
    "''').show(20, truncate=False)"
   ]
  },
  {
   "cell_type": "markdown",
   "metadata": {},
   "source": [
    "- Transações por estado do estabelecimento comercial"
   ]
  },
  {
   "cell_type": "code",
   "execution_count": 28,
   "metadata": {},
   "outputs": [
    {
     "name": "stdout",
     "output_type": "stream",
     "text": [
      "+--------------+---------------+------------+-----------+\n",
      "|UF_COMERCIANTE|QTDE_TRANSACOES|QTDE_FRAUDES|TAXA_FRAUDE|\n",
      "+--------------+---------------+------------+-----------+\n",
      "|ONLINE        |1563700        |8779        |0.561      |\n",
      "|CA            |1427087        |127         |0.009      |\n",
      "|TX            |1010207        |76          |0.008      |\n",
      "|NY            |857510         |58          |0.007      |\n",
      "|FL            |701623         |63          |0.009      |\n",
      "|OH            |484122         |316         |0.065      |\n",
      "|IL            |467931         |36          |0.008      |\n",
      "|NC            |429427         |44          |0.01       |\n",
      "|PA            |417766         |33          |0.008      |\n",
      "|MI            |397970         |39          |0.01       |\n",
      "|GA            |368206         |22          |0.006      |\n",
      "|NJ            |322227         |42          |0.013      |\n",
      "|IN            |312470         |26          |0.008      |\n",
      "|WA            |286525         |23          |0.008      |\n",
      "|TN            |284709         |14          |0.005      |\n",
      "|VA            |230685         |26          |0.011      |\n",
      "|AZ            |195940         |11          |0.006      |\n",
      "|MO            |195854         |32          |0.016      |\n",
      "|MD            |193776         |18          |0.009      |\n",
      "|MN            |178808         |14          |0.008      |\n",
      "+--------------+---------------+------------+-----------+\n",
      "only showing top 20 rows\n",
      "\n"
     ]
    }
   ],
   "source": [
    "query_05 = spark.sql('''\n",
    "    SELECT \n",
    "        COALESCE(merchant_state, 'ONLINE') AS UF_COMERCIANTE,\n",
    "        COUNT(*) AS QTDE_TRANSACOES,\n",
    "        COUNT(CASE WHEN is_fraud = 'Yes' THEN id END) AS QTDE_FRAUDES,\n",
    "        ROUND(100 * COUNT(CASE WHEN is_fraud != 'No' THEN 1 END) / COUNT(*), 3) AS TAXA_FRAUDE\n",
    "    FROM\n",
    "        tb_abt_01\n",
    "    GROUP BY \n",
    "        UF_COMERCIANTE\n",
    "    ORDER BY \n",
    "        QTDE_TRANSACOES DESC;\n",
    "''').show(20, truncate=False) "
   ]
  },
  {
   "cell_type": "markdown",
   "metadata": {},
   "source": [
    "- Análise de transações por gênero"
   ]
  },
  {
   "cell_type": "code",
   "execution_count": 29,
   "metadata": {},
   "outputs": [
    {
     "name": "stdout",
     "output_type": "stream",
     "text": [
      "+------+---------------+------------+-----------+\n",
      "|GENERO|QTDE_TRANSACOES|QTDE_FRAUDES|TAXA_FRAUDE|\n",
      "+------+---------------+------------+-----------+\n",
      "|Female|6815916        |6982        |0.102      |\n",
      "|Male  |6489999        |6350        |0.098      |\n",
      "+------+---------------+------------+-----------+\n",
      "\n"
     ]
    }
   ],
   "source": [
    "query_06 = spark.sql(''' \n",
    "    SELECT \n",
    "        COALESCE(gender, 'Desconhecido') AS GENERO,\n",
    "        COUNT(*) AS QTDE_TRANSACOES,\n",
    "        COUNT(CASE WHEN is_fraud = 'Yes' THEN id END) AS QTDE_FRAUDES,\n",
    "        ROUND(100 * COUNT(CASE WHEN is_fraud = 'Yes' THEN 1 END) / COUNT(*), 3) AS TAXA_FRAUDE\n",
    "    FROM \n",
    "        tb_abt_01\n",
    "    GROUP BY \n",
    "        GENERO\n",
    "    ORDER BY \n",
    "        QTDE_TRANSACOES DESC;\n",
    "''').show(20, truncate=False) "
   ]
  },
  {
   "cell_type": "markdown",
   "metadata": {},
   "source": [
    "- Transações por faixa de valor"
   ]
  },
  {
   "cell_type": "code",
   "execution_count": 30,
   "metadata": {},
   "outputs": [
    {
     "name": "stdout",
     "output_type": "stream",
     "text": [
      "+-----------+---------------+------------+-----------+\n",
      "|value_range|QTDE_TRANSACOES|QTDE_FRAUDES|TAXA_FRAUDE|\n",
      "+-----------+---------------+------------+-----------+\n",
      "|0-50       |8198871        |4943        |0.06       |\n",
      "|51-100     |2939552        |2761        |0.094      |\n",
      "|101-500    |1366430        |4690        |0.343      |\n",
      "|1000+      |767187         |687         |0.09       |\n",
      "|501-1000   |33875          |251         |0.741      |\n",
      "+-----------+---------------+------------+-----------+\n",
      "\n"
     ]
    }
   ],
   "source": [
    "query_07 = spark.sql('''\n",
    "    SELECT\n",
    "        CASE\n",
    "            WHEN CAST(REPLACE(amount, '$', '') AS DECIMAL(10,2)) BETWEEN 0 AND 50 THEN '0-50'\n",
    "            WHEN CAST(REPLACE(amount, '$', '') AS DECIMAL(10,2)) BETWEEN 51 AND 100 THEN '51-100'\n",
    "            WHEN CAST(REPLACE(amount, '$', '') AS DECIMAL(10,2)) BETWEEN 101 AND 500 THEN '101-500'\n",
    "            WHEN CAST(REPLACE(amount, '$', '') AS DECIMAL(10,2)) BETWEEN 501 AND 1000 THEN '501-1000'\n",
    "            ELSE '1000+'\n",
    "        END AS value_range,\n",
    "        COUNT(*) AS QTDE_TRANSACOES,\n",
    "        COUNT(CASE WHEN is_fraud = 'Yes' THEN id END) AS QTDE_FRAUDES,\n",
    "        ROUND(100 * COUNT(CASE WHEN is_fraud = 'Yes' THEN id END) / COUNT(*), 3) AS TAXA_FRAUDE\n",
    "    FROM \n",
    "        tb_abt_01\n",
    "    GROUP BY \n",
    "        value_range\n",
    "    ORDER BY \n",
    "        QTDE_TRANSACOES DESC;                  \n",
    "''').show(20, truncate=False)  "
   ]
  },
  {
   "cell_type": "markdown",
   "metadata": {},
   "source": [
    "- Análise de transações por faixa etária e gênero"
   ]
  },
  {
   "cell_type": "code",
   "execution_count": 31,
   "metadata": {},
   "outputs": [
    {
     "name": "stdout",
     "output_type": "stream",
     "text": [
      "+------------+------+---------------+------------+-----------+\n",
      "|FAIXA_ETARIA|gender|QTDE_TRANSACOES|QTDE_FRAUDES|TAXA_FRAUDE|\n",
      "+------------+------+---------------+------------+-----------+\n",
      "|41-50       |Female|1764919        |1597        |0.09       |\n",
      "|41-50       |Male  |1631865        |1637        |0.1        |\n",
      "|51-60       |Male  |1512801        |1432        |0.095      |\n",
      "|51-60       |Female|1430231        |1448        |0.101      |\n",
      "|31-40       |Male  |1243654        |1008        |0.081      |\n",
      "|31-40       |Female|1133908        |1033        |0.091      |\n",
      "|61-70       |Female|1062819        |1332        |0.125      |\n",
      "|61-70       |Male  |1042565        |1147        |0.11       |\n",
      "|81-90       |Female|558634         |715         |0.128      |\n",
      "|71-80       |Male  |487802         |519         |0.106      |\n",
      "|71-80       |Female|482856         |617         |0.128      |\n",
      "|81-90       |Male  |306021         |362         |0.118      |\n",
      "|21-30       |Female|256586         |159         |0.062      |\n",
      "|21-30       |Male  |172085         |159         |0.092      |\n",
      "|90+         |Female|125963         |81          |0.064      |\n",
      "|90+         |Male  |93206          |86          |0.092      |\n",
      "+------------+------+---------------+------------+-----------+\n",
      "\n"
     ]
    }
   ],
   "source": [
    "query_08 = spark.sql('''\n",
    "    SELECT \n",
    "        FAIXA_ETARIA,\n",
    "        gender,\n",
    "        COUNT(*) AS QTDE_TRANSACOES,\n",
    "        COUNT(CASE WHEN is_fraud = 'Yes' THEN id END) AS QTDE_FRAUDES,\n",
    "        ROUND(100 * COUNT(CASE WHEN is_fraud = 'Yes' THEN id END) / COUNT(*), 3) AS TAXA_FRAUDE\n",
    "    FROM \n",
    "        (SELECT\n",
    "            CASE\n",
    "                WHEN current_age BETWEEN 0 AND 10 THEN '0-10'\n",
    "                WHEN current_age BETWEEN 11 AND 20 THEN '11-20'\n",
    "                WHEN current_age BETWEEN 21 AND 30 THEN '21-30'\n",
    "                WHEN current_age BETWEEN 31 AND 40 THEN '31-40'\n",
    "                WHEN current_age BETWEEN 41 AND 50 THEN '41-50'\n",
    "                WHEN current_age BETWEEN 51 AND 60 THEN '51-60'\n",
    "                WHEN current_age BETWEEN 61 AND 70 THEN '61-70'\n",
    "                WHEN current_age BETWEEN 71 AND 80 THEN '71-80'\n",
    "                WHEN current_age BETWEEN 81 AND 90 THEN '81-90'\n",
    "                ELSE '90+'\n",
    "            END AS FAIXA_ETARIA,\n",
    "            gender,\n",
    "            id,\n",
    "            is_fraud\n",
    "        FROM tb_abt_01) AS DADOS_FAIXA_ETARIA\n",
    "    GROUP BY \n",
    "        FAIXA_ETARIA, gender\n",
    "    ORDER BY \n",
    "        QTDE_TRANSACOES DESC;             \n",
    "''').show(20, truncate=False) "
   ]
  },
  {
   "cell_type": "markdown",
   "metadata": {},
   "source": [
    "### 5.2. Análise do target da ABT"
   ]
  },
  {
   "cell_type": "markdown",
   "metadata": {},
   "source": [
    "- Divisão dos dados pelo target"
   ]
  },
  {
   "cell_type": "code",
   "execution_count": 36,
   "metadata": {},
   "outputs": [
    {
     "name": "stdout",
     "output_type": "stream",
     "text": [
      "+--------+---------------+----------+\n",
      "|is_fraud|QTDE_TRANSACOES|PERCENTUAL|\n",
      "+--------+---------------+----------+\n",
      "|No      |8901631        |66.9      |\n",
      "|NULL    |4390952        |33.0      |\n",
      "|Yes     |13332          |0.1       |\n",
      "+--------+---------------+----------+\n",
      "\n"
     ]
    }
   ],
   "source": [
    "query_09 = spark.sql('''\n",
    "    SELECT\n",
    "        is_fraud,\n",
    "        COUNT(*) AS QTDE_TRANSACOES,\n",
    "        ROUND(100 * COUNT(*) / (SELECT COUNT(*) FROM tb_abt_01), 3) AS PERCENTUAL\n",
    "    FROM\n",
    "        tb_abt_01\n",
    "    GROUP BY\n",
    "        is_fraud\n",
    "    ORDER BY\n",
    "        QTDE_TRANSACOES DESC;\n",
    "''').show(20, truncate=False)"
   ]
  },
  {
   "cell_type": "markdown",
   "metadata": {},
   "source": [
    "- Distribuição do target por ano"
   ]
  },
  {
   "cell_type": "code",
   "execution_count": null,
   "metadata": {},
   "outputs": [
    {
     "name": "stdout",
     "output_type": "stream",
     "text": [
      "+----+--------+---------------+----------+\n",
      "|ANO |is_fraud|QTDE_TRANSACOES|PERCENTUAL|\n",
      "+----+--------+---------------+----------+\n",
      "|2010|Yes     |2573           |0.02      |\n",
      "|2010|No      |828956         |6.23      |\n",
      "|2010|NULL    |409351         |3.08      |\n",
      "|2011|Yes     |37             |0.0       |\n",
      "|2011|No      |863391         |6.49      |\n",
      "|2011|NULL    |427342         |3.21      |\n",
      "|2012|Yes     |923            |0.01      |\n",
      "|2012|No      |884498         |6.65      |\n",
      "|2012|NULL    |436251         |3.28      |\n",
      "|2013|Yes     |1337           |0.01      |\n",
      "|2013|No      |905967         |6.81      |\n",
      "|2013|NULL    |445504         |3.35      |\n",
      "|2014|Yes     |664            |0.0       |\n",
      "|2014|No      |914409         |6.87      |\n",
      "|2014|NULL    |450464         |3.39      |\n",
      "|2015|Yes     |2189           |0.02      |\n",
      "|2015|No      |928035         |6.97      |\n",
      "|2015|NULL    |457841         |3.44      |\n",
      "|2016|Yes     |2448           |0.02      |\n",
      "|2016|No      |930314         |6.99      |\n",
      "|2016|NULL    |459355         |3.45      |\n",
      "|2017|Yes     |172            |0.0       |\n",
      "|2017|No      |937112         |7.04      |\n",
      "|2017|NULL    |462024         |3.47      |\n",
      "|2018|Yes     |1629           |0.01      |\n",
      "|2018|No      |932970         |7.01      |\n",
      "|2018|NULL    |460193         |3.46      |\n",
      "|2019|Yes     |1360           |0.01      |\n",
      "|2019|No      |775979         |5.83      |\n",
      "|2019|NULL    |382627         |2.88      |\n",
      "+----+--------+---------------+----------+\n",
      "\n"
     ]
    }
   ],
   "source": [
    "query_10 = spark.sql('''\n",
    "SELECT\n",
    "    YEAR(TO_DATE(date, 'yyyy-MM-dd')) AS ANO,\n",
    "    is_fraud,\n",
    "    COUNT(*) AS QTDE_TRANSACOES,\n",
    "    ROUND(100 * COUNT(*) / (\n",
    "        SELECT \n",
    "            COUNT(*) \n",
    "        FROM \n",
    "            tb_abt_01 \n",
    "        WHERE \n",
    "            YEAR(TO_DATE(date, 'yyyy-MM-dd')) = YEAR(TO_DATE(date, 'yyyy-MM-dd'))\n",
    "        ), 2) AS PERCENTUAL\n",
    "FROM\n",
    "    tb_abt_01\n",
    "GROUP BY\n",
    "    ANO, is_fraud\n",
    "ORDER BY\n",
    "    ANO, is_fraud DESC;               \n",
    "''').show(50, truncate=False)"
   ]
  },
  {
   "cell_type": "markdown",
   "metadata": {},
   "source": [
    "### 5.3. Gerando uma amostra representativa da ABT"
   ]
  },
  {
   "cell_type": "code",
   "execution_count": 57,
   "metadata": {},
   "outputs": [
    {
     "name": "stdout",
     "output_type": "stream",
     "text": [
      "+-------+-------------------+---------+-------+--------+------------------+-----------+-------------+--------------+-------+----+--------------------+-------+--------------+----------+---------------+----------------+-------+---+--------+----------------+------------+--------------+---------------------+----------------+---------+-----------+--------------+----------+-----------+------+-----------------------------+--------+---------+-----------------+-------------+----------+------------+----------------+----+--------------------------------------------+--------------+--------+\n",
      "|id     |date               |client_id|card_id|amount  |use_chip          |merchant_id|merchant_city|merchant_state|zip    |mcc |errors              |id_card|client_id_card|card_brand|card_type      |card_number     |expires|cvv|has_chip|num_cards_issued|credit_limit|acct_open_date|year_pin_last_changed|card_on_dark_web|id_client|current_age|retirement_age|birth_year|birth_month|gender|address                      |latitude|longitude|per_capita_income|yearly_income|total_debt|credit_score|num_credit_cards|code|description                                 |transaction_id|is_fraud|\n",
      "+-------+-------------------+---------+-------+--------+------------------+-----------+-------------+--------------+-------+----+--------------------+-------+--------------+----------+---------------+----------------+-------+---+--------+----------------+------------+--------------+---------------------+----------------+---------+-----------+--------------+----------+-----------+------+-----------------------------+--------+---------+-----------------+-------------+----------+------------+----------------+----+--------------------------------------------+--------------+--------+\n",
      "|7475634|2010-01-01 06:18:00|571      |5960   |$1.77   |Swipe Transaction |49903      |Martinsburg  |WV            |25401.0|5411|NULL                |5960   |571           |Mastercard|Debit          |5060522440059037|02/2017|556|YES     |1               |$12247      |12/2009       |2009                 |No              |571      |42         |68            |1977      |11         |Male  |8580 Valley Stream Avenue    |39.46   |-77.96   |$18003           |$36711       |$84949    |739         |4               |5411|Grocery Stores, Supermarkets                |7475634       |No      |\n",
      "|7475806|2010-01-01 07:05:00|1840     |4568   |$2.02   |Swipe Transaction |35451      |Beaverton    |OR            |97005.0|5812|NULL                |4568   |1840          |Visa      |Debit (Prepaid)|4733359418335581|09/2021|67 |YES     |2               |$4          |09/2004       |2008                 |No              |1840     |46         |71            |1974      |2          |Female|576 Martin Luther King Street|45.49   |-122.8   |$21702           |$44249       |$103229   |706         |5               |5812|Eating Places and Restaurants               |7475806       |No      |\n",
      "|7476076|2010-01-01 08:09:00|1098     |4626   |$66.00  |Swipe Transaction |50867      |Hawarden     |IA            |51023.0|5541|NULL                |4626   |1098          |Visa      |Debit          |4587822219584718|07/2023|49 |YES     |1               |$12640      |09/2006       |2009                 |No              |1098     |50         |71            |1969      |3          |Male  |772 Fifth Boulevard          |42.67   |-95.3    |$16901           |$34456       |$54634    |752         |4               |5541|Service Stations                            |NULL          |NULL    |\n",
      "|7476302|2010-01-01 09:06:00|1718     |2029   |$52.94  |Online Transaction|15143      |ONLINE       |NULL          |NULL   |4784|NULL                |2029   |1718          |Mastercard|Debit          |5804499644308599|07/2023|258|NO      |2               |$27480      |03/2002       |2008                 |No              |1718     |81         |67            |1938      |11         |Female|766 Third Drive              |34.02   |-117.89  |$22681           |$33483       |$196      |698         |5               |4784|Tolls and Bridge Fees                       |7476302       |No      |\n",
      "|7476770|2010-01-01 10:49:00|126      |2191   |$4.41   |Swipe Transaction |54366      |Little Rock  |AR            |72209.0|5812|NULL                |2191   |126           |Mastercard|Debit          |5486956731385318|11/2013|963|YES     |1               |$13823      |03/2008       |2011                 |No              |126      |63         |65            |1956      |10         |Male  |5159 Wessex Avenue           |34.72   |-92.35   |$13047           |$26600       |$0        |799         |4               |5812|Eating Places and Restaurants               |NULL          |NULL    |\n",
      "|7476918|2010-01-01 11:21:00|1515     |5557   |$63.55  |Swipe Transaction |31883      |Atlantic City|NJ            |8401.0 |7995|NULL                |5557   |1515          |Discover  |Credit         |6237354607435107|05/2022|959|YES     |2               |$16300      |11/2009       |2011                 |No              |1515     |77         |67            |1942      |12         |Female|7239 Hill Lane               |40.34   |-76.42   |$20983           |$30457       |$19314    |520         |5               |7995|Betting (including Lottery Tickets, Casinos)|7476918       |No      |\n",
      "|7476986|2010-01-01 11:35:00|1362     |0      |$19.20  |Swipe Transaction |94992      |Bladensburg  |MD            |20710.0|5812|NULL                |0      |1362          |Amex      |Credit         |393314135668401 |04/2024|866|YES     |2               |$33900      |01/1991       |2014                 |No              |1362     |58         |67            |1962      |1          |Male  |3385 Hill Lane               |38.78   |-77.27   |$35563           |$72510       |$44317    |727         |4               |5812|Eating Places and Restaurants               |7476986       |No      |\n",
      "|7477149|2010-01-01 12:07:00|1771     |2607   |$15.02  |Swipe Transaction |22204      |Roseville    |CA            |95678.0|5541|NULL                |2607   |1771          |Mastercard|Debit (Prepaid)|5579600195785019|04/2024|50 |YES     |2               |$59         |04/2009       |2009                 |No              |1771     |41         |66            |1978      |12         |Male  |7662 Mountain View Boulevard |38.76   |-121.28  |$25476           |$51943       |$61722    |794         |3               |5541|Service Stations                            |NULL          |NULL    |\n",
      "|7477159|2010-01-01 12:09:00|154      |159    |$3.62   |Swipe Transaction |91453      |Fayetteville |NC            |28312.0|5411|NULL                |159    |154           |Mastercard|Debit          |5175111743032898|03/2011|151|YES     |2               |$12557      |01/2008       |2013                 |No              |154      |48         |61            |1971      |6          |Male  |8993 Madison Avenue          |34.93   |-78.72   |$18376           |$37468       |$73448    |666         |3               |5411|Grocery Stores, Supermarkets                |7477159       |No      |\n",
      "|7477255|2010-01-01 12:26:00|62       |5138   |$12.03  |Swipe Transaction |68671      |Auburn       |CA            |95602.0|5541|NULL                |5138   |62            |Visa      |Debit          |4984630717840065|08/2019|910|YES     |2               |$5909       |10/2008       |2012                 |No              |62       |78         |68            |1941      |11         |Female|9911 Rose Street             |41.13   |-124.04  |$15296           |$22290       |$9235     |716         |6               |5541|Service Stations                            |NULL          |NULL    |\n",
      "|7477609|2010-01-01 13:35:00|1129     |5492   |$14.35  |Swipe Transaction |28168      |Oceanside    |CA            |92058.0|5411|NULL                |5492   |1129          |Mastercard|Debit          |5988252449836290|01/2015|438|YES     |2               |$18109      |11/2007       |2010                 |No              |1129     |49         |65            |1970      |4          |Male  |2379 Forest Lane             |33.18   |-117.29  |$16894           |$34449       |$36540    |686         |3               |5411|Grocery Stores, Supermarkets                |7477609       |No      |\n",
      "|7477811|2010-01-01 14:25:00|377      |1175   |$-53.00 |Swipe Transaction |43293      |Withee       |WI            |54498.0|5499|NULL                |1175   |377           |Mastercard|Debit          |5009400051376027|11/2023|417|YES     |1               |$30403      |02/2009       |2014                 |No              |377      |80         |67            |1940      |1          |Female|305 Pine Avenue              |47.39   |-122.26  |$24884           |$39110       |$363      |750         |5               |5499|Miscellaneous Food Stores                   |NULL          |NULL    |\n",
      "|7477868|2010-01-01 14:41:00|311      |93     |$10.14  |Swipe Transaction |61195      |Saint George |UT            |84770.0|5541|NULL                |93     |311           |Discover  |Credit         |6129847719830710|08/2024|972|YES     |1               |$1800       |01/2006       |2007                 |No              |311      |46         |68            |1973      |12         |Female|8070 Mill Lane               |37.18   |-113.6   |$14470           |$29510       |$47153    |752         |4               |5541|Service Stations                            |7477868       |No      |\n",
      "|7477932|2010-01-01 14:55:00|1749     |75     |$34.65  |Swipe Transaction |46951      |Hamtramck    |MI            |48212.0|7538|NULL                |75     |1749          |Mastercard|Debit (Prepaid)|5535901079667192|02/2020|480|NO      |1               |$50         |01/2005       |2013                 |No              |1749     |50         |61            |1969      |7          |Female|415 Elm Street               |42.39   |-83.05   |$8658            |$17657       |$21899    |614         |2               |7538|Automotive Service Shops                    |7477932       |No      |\n",
      "|7477986|2010-01-01 15:11:00|1194     |4614   |$17.56  |Online Transaction|39021      |ONLINE       |NULL          |NULL   |4784|NULL                |4614   |1194          |Visa      |Credit         |4678372291668326|07/2020|966|YES     |1               |$14100      |09/2006       |2011                 |No              |1194     |49         |70            |1970      |3          |Male  |2248 Third Avenue            |35.06   |-85.25   |$18658           |$38041       |$27813    |782         |4               |4784|Tolls and Bridge Fees                       |NULL          |NULL    |\n",
      "|7477999|2010-01-01 15:15:00|476      |1070   |$-83.00 |Swipe Transaction |22204      |Alburtis     |PA            |18011.0|5541|Insufficient Balance|1070   |476           |Visa      |Debit          |4385795693863379|06/2024|806|YES     |2               |$31535      |02/2005       |2009                 |No              |476      |68         |71            |1951      |9          |Male  |26 El Camino Street          |40.93   |-76.25   |$20340           |$41473       |$98151    |724         |3               |5541|Service Stations                            |7477999       |No      |\n",
      "|7478375|2010-01-01 16:46:00|557      |5570   |$66.60  |Swipe Transaction |81833      |Canton       |NC            |28716.0|5912|NULL                |5570   |557           |Mastercard|Debit          |5755010791716629|04/2022|497|YES     |2               |$6090       |11/2009       |2011                 |No              |557      |59         |54            |1960      |9          |Male  |350 Jefferson Boulevard      |33.97   |-118.35  |$18476           |$28245       |$13411    |669         |1               |5912|Drug Stores and Pharmacies                  |NULL          |NULL    |\n",
      "|7478410|2010-01-01 16:55:00|1362     |2145   |$-295.00|Swipe Transaction |96185      |Bladensburg  |MD            |20710.0|7011|NULL                |2145   |1362          |Mastercard|Debit          |5566695688917047|03/2017|309|NO      |2               |$29708      |03/2007       |2009                 |No              |1362     |58         |67            |1962      |1          |Male  |3385 Hill Lane               |38.78   |-77.27   |$35563           |$72510       |$44317    |727         |4               |7011|Lodging - Hotels, Motels, Resorts           |NULL          |NULL    |\n",
      "|7478712|2010-01-01 18:42:00|1677     |4969   |$46.69  |Swipe Transaction |75936      |Lubbock      |TX            |79414.0|5814|NULL                |4969   |1677          |Mastercard|Debit          |5650667533582383|04/2022|228|YES     |2               |$13404      |10/2002       |2018                 |No              |1677     |51         |67            |1969      |2          |Male  |849 Littlewood Drive         |33.57   |-101.87  |$16272           |$33178       |$92366    |671         |2               |5814|Fast Food Restaurants                       |7478712       |No      |\n",
      "|7478722|2010-01-01 18:46:00|821      |5880   |$30.09  |Swipe Transaction |98648      |Houston      |TX            |77012.0|5814|NULL                |5880   |821           |Mastercard|Debit          |5709350938591097|09/2021|841|YES     |2               |$2338       |12/2007       |2016                 |No              |821      |73         |60            |1946      |7          |Male  |833 Elm Lane                 |29.76   |-95.38   |$12434           |$18015       |$10463    |645         |2               |5814|Fast Food Restaurants                       |7478722       |No      |\n",
      "+-------+-------------------+---------+-------+--------+------------------+-----------+-------------+--------------+-------+----+--------------------+-------+--------------+----------+---------------+----------------+-------+---+--------+----------------+------------+--------------+---------------------+----------------+---------+-----------+--------------+----------+-----------+------+-----------------------------+--------+---------+-----------------+-------------+----------+------------+----------------+----+--------------------------------------------+--------------+--------+\n",
      "only showing top 20 rows\n",
      "\n"
     ]
    }
   ],
   "source": [
    "amostra = abt_01.sample(withReplacement=False, fraction=0.50, seed=42)\n",
    "\n",
    "amostra.show(20, truncate=False)\n"
   ]
  },
  {
   "cell_type": "code",
   "execution_count": 58,
   "metadata": {},
   "outputs": [],
   "source": [
    "amostra.createOrReplaceTempView('tb_amostra')"
   ]
  },
  {
   "cell_type": "code",
   "execution_count": 59,
   "metadata": {},
   "outputs": [
    {
     "name": "stdout",
     "output_type": "stream",
     "text": [
      "+--------+---------------+----------+\n",
      "|is_fraud|QTDE_TRANSACOES|PERCENTUAL|\n",
      "+--------+---------------+----------+\n",
      "|No      |4449846        |66.89     |\n",
      "|NULL    |2195994        |33.01     |\n",
      "|Yes     |6685           |0.1       |\n",
      "+--------+---------------+----------+\n",
      "\n"
     ]
    }
   ],
   "source": [
    "query_09 = spark.sql('''\n",
    "    SELECT\n",
    "        is_fraud,\n",
    "        COUNT(*) AS QTDE_TRANSACOES,\n",
    "        ROUND(100 * COUNT(*) / (SELECT COUNT(*) FROM tb_amostra), 3) AS PERCENTUAL\n",
    "    FROM\n",
    "        tb_amostra\n",
    "    GROUP BY\n",
    "        is_fraud\n",
    "    ORDER BY\n",
    "        QTDE_TRANSACOES DESC;\n",
    "''').show(20, truncate=False)"
   ]
  },
  {
   "cell_type": "code",
   "execution_count": 33,
   "metadata": {},
   "outputs": [
    {
     "name": "stdout",
     "output_type": "stream",
     "text": [
      "Encerrando o script, mas mantendo o ambiente interativo ativo.\n"
     ]
    }
   ],
   "source": [
    "import sys\n",
    "\n",
    "try:\n",
    "    sys.exit()\n",
    "except SystemExit:\n",
    "    print('Encerrando o script, mas mantendo o ambiente interativo ativo.')\n"
   ]
  }
 ],
 "metadata": {
  "kernelspec": {
   "display_name": "venv",
   "language": "python",
   "name": "python3"
  },
  "language_info": {
   "codemirror_mode": {
    "name": "ipython",
    "version": 3
   },
   "file_extension": ".py",
   "mimetype": "text/x-python",
   "name": "python",
   "nbconvert_exporter": "python",
   "pygments_lexer": "ipython3",
   "version": "3.12.8"
  }
 },
 "nbformat": 4,
 "nbformat_minor": 4
}
